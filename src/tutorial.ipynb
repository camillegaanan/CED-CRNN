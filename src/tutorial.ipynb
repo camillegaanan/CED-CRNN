{
  "nbformat": 4,
  "nbformat_minor": 0,
  "metadata": {
    "colab": {
      "name": "tutorial.ipynb",
      "provenance": [],
      "collapsed_sections": []
    },
    "file_extension": ".py",
    "kernelspec": {
      "display_name": "Python 3",
      "name": "python3"
    },
    "mimetype": "text/x-python",
    "name": "python",
    "npconvert_exporter": "python",
    "pygments_lexer": "ipython3",
    "version": 3,
    "accelerator": "GPU"
  },
  "cells": [
    {
      "cell_type": "markdown",
      "metadata": {
        "id": "view-in-github"
      },
      "source": [
        "<a href=\"https://colab.research.google.com/github/arthurflor23/handwritten-text-recognition/blob/master/src/tutorial.ipynb\" target=\"_parent\"><img src=\"https://colab.research.google.com/assets/colab-badge.svg\" alt=\"Open In Colab\"/></a>"
      ]
    },
    {
      "cell_type": "markdown",
      "metadata": {
        "id": "jydsAcWgWVth"
      },
      "source": [
        "## 2 Google Drive Environment\n"
      ]
    },
    {
      "cell_type": "markdown",
      "metadata": {
        "id": "wk3e7YJiXzSl"
      },
      "source": [
        "### 2.1 TensorFlow 2.x"
      ]
    },
    {
      "cell_type": "code",
      "metadata": {
        "colab": {
          "base_uri": "https://localhost:8080/"
        },
        "id": "mHw4tODULT1Z",
        "outputId": "e8915ae2-8580-437a-a42f-09be0ef101fa"
      },
      "source": [
        "!nvidia-smi"
      ],
      "execution_count": null,
      "outputs": [
        {
          "output_type": "stream",
          "name": "stdout",
          "text": [
            "Mon Nov 29 14:06:44 2021       \n",
            "+-----------------------------------------------------------------------------+\n",
            "| NVIDIA-SMI 495.44       Driver Version: 460.32.03    CUDA Version: 11.2     |\n",
            "|-------------------------------+----------------------+----------------------+\n",
            "| GPU  Name        Persistence-M| Bus-Id        Disp.A | Volatile Uncorr. ECC |\n",
            "| Fan  Temp  Perf  Pwr:Usage/Cap|         Memory-Usage | GPU-Util  Compute M. |\n",
            "|                               |                      |               MIG M. |\n",
            "|===============================+======================+======================|\n",
            "|   0  Tesla K80           Off  | 00000000:00:04.0 Off |                    0 |\n",
            "| N/A   73C    P8    34W / 149W |      0MiB / 11441MiB |      0%      Default |\n",
            "|                               |                      |                  N/A |\n",
            "+-------------------------------+----------------------+----------------------+\n",
            "                                                                               \n",
            "+-----------------------------------------------------------------------------+\n",
            "| Processes:                                                                  |\n",
            "|  GPU   GI   CI        PID   Type   Process name                  GPU Memory |\n",
            "|        ID   ID                                                   Usage      |\n",
            "|=============================================================================|\n",
            "|  No running processes found                                                 |\n",
            "+-----------------------------------------------------------------------------+\n"
          ]
        }
      ]
    },
    {
      "cell_type": "code",
      "metadata": {
        "colab": {
          "base_uri": "https://localhost:8080/"
        },
        "id": "FMg-B5PH9h3r",
        "outputId": "639a636c-9db7-4bb0-bfb0-baf864193064"
      },
      "source": [
        "%tensorflow_version 2.x\n",
        "import tensorflow as tf\n",
        "\n",
        "device_name = tf.test.gpu_device_name()\n",
        "\n",
        "if device_name != \"/device:GPU:0\":\n",
        "    raise SystemError(\"GPU device not found\")\n",
        "\n",
        "print(\"Found GPU at: {}\".format(device_name))"
      ],
      "execution_count": null,
      "outputs": [
        {
          "output_type": "stream",
          "name": "stdout",
          "text": [
            "Found GPU at: /device:GPU:0\n"
          ]
        }
      ]
    },
    {
      "cell_type": "markdown",
      "metadata": {
        "id": "FyMv5wyDXxqc"
      },
      "source": [
        "### 2.2 Google Drive"
      ]
    },
    {
      "cell_type": "code",
      "metadata": {
        "colab": {
          "base_uri": "https://localhost:8080/"
        },
        "id": "ACQn1iBF9k9O",
        "outputId": "fa66885c-ecec-47f9-b506-b3aaff75b877"
      },
      "source": [
        "from google.colab import drive\n",
        "\n",
        "drive.mount(\"./gdrive\", force_remount=True)\n",
        "\n",
        "%cd \"./gdrive/My Drive/Colab Notebooks/handwritten-text-recognition/src/\"\n",
        "!ls -l"
      ],
      "execution_count": null,
      "outputs": [
        {
          "output_type": "stream",
          "name": "stdout",
          "text": [
            "Mounted at ./gdrive\n",
            "/content/gdrive/My Drive/Colab Notebooks/handwritten-text-recognition/src\n",
            "total 848\n",
            "-rw------- 1 root root  45533 Nov 23 06:26 Battung_Dobutamine_3.png\n",
            "-rw------- 1 root root  33969 Nov 23 06:48 Battung_Tramadol_3.png\n",
            "-rw------- 1 root root  78605 Nov 23 06:46 Dangane_Rituximab_2.png\n",
            "-rw------- 1 root root  58370 Nov 23 06:13 Dasalla_Azathioprine_1.png\n",
            "drwx------ 2 root root   4096 Sep 27 12:47 data\n",
            "-rw------- 1 root root  38204 Nov 23 06:28 DeLosSantos_Hydroxyzine_1.png\n",
            "-rw------- 1 root root  20638 Nov 23 06:24 Ferraren_Chlorpromazine_2.png\n",
            "-rw------- 1 root root  53441 Nov 23 06:31 Lim_Lorazepam_1.png\n",
            "-rw------- 1 root root   9074 Sep 27 12:47 main.py\n",
            "-rw------- 1 root root     12 Oct 28 09:40 misclassified_words.csv\n",
            "drwx------ 2 root root   4096 Sep 27 12:47 network\n",
            "-rw------- 1 root root  44270 Nov 23 06:44 PayuranGatchalian_Risperidone_1.png\n",
            "-rw------- 1 root root  58354 Nov 23 07:54 predict.ipynb\n",
            "-rw------- 1 root root  35786 Nov 23 06:37 Ragab_Prednisolone_1.png\n",
            "-rw------- 1 root root  24975 Nov 23 06:33 Revecho_Metronidazole_2.png\n",
            "-rw------- 1 root root 231265 Nov 24 10:14 tutorial.ipynb\n",
            "-rw------- 1 root root  72953 Nov 23 06:21 Yenson_Ceftriaxone_1.png\n",
            "-rw------- 1 root root  50419 Nov 23 06:39 Yopo_Quinine_1.png\n"
          ]
        }
      ]
    },
    {
      "cell_type": "markdown",
      "metadata": {
        "id": "YwogUA8RZAyp"
      },
      "source": [
        "After mount, you can see the list os files in the project folder."
      ]
    },
    {
      "cell_type": "markdown",
      "metadata": {
        "id": "-fj7fSngY1IX"
      },
      "source": [
        "## 3 Set Python Classes"
      ]
    },
    {
      "cell_type": "markdown",
      "metadata": {
        "id": "p6Q4cOlWhNl3"
      },
      "source": [
        "### 3.1 Environment"
      ]
    },
    {
      "cell_type": "code",
      "metadata": {
        "colab": {
          "base_uri": "https://localhost:8080/"
        },
        "id": "_Qpr3drnGMWS",
        "outputId": "ba0c9225-ffa5-49e9-fe9e-638578b44938"
      },
      "source": [
        "import os\n",
        "import datetime\n",
        "import string\n",
        "\n",
        "# define parameters\n",
        "source = \"doctors\"\n",
        "arch = \"cnn_bilstm\"\n",
        "epochs = 200\n",
        "batch_size = 16\n",
        "\n",
        "# define paths\n",
        "source_path = os.path.join(\"..\", \"data\", f\"{source}.hdf5\")\n",
        "output_path = os.path.join(\"..\", \"output\", source, arch, \"simpler no noise ced with seed\")\n",
        "target_path = os.path.join(output_path, \"checkpoint_weights.hdf5\")\n",
        "os.makedirs(output_path, exist_ok=True)\n",
        "\n",
        "# define input size, number max of chars per line and list of valid chars\n",
        "input_size = (1024, 128, 1)\n",
        "max_text_length = 128\n",
        "charset_base = string.printable[:95]\n",
        "\n",
        "print(\"source:\", source_path)\n",
        "print(\"output\", output_path)\n",
        "print(\"target\", target_path)\n",
        "print(\"charset:\", charset_base)"
      ],
      "execution_count": null,
      "outputs": [
        {
          "output_type": "stream",
          "name": "stdout",
          "text": [
            "source: ../data/doctors.hdf5\n",
            "output ../output/doctors/cnn_bilstm/simpler no noise ced with seed\n",
            "target ../output/doctors/cnn_bilstm/simpler no noise ced with seed/checkpoint_weights.hdf5\n",
            "charset: 0123456789abcdefghijklmnopqrstuvwxyzABCDEFGHIJKLMNOPQRSTUVWXYZ!\"#$%&'()*+,-./:;<=>?@[\\]^_`{|}~ \n"
          ]
        }
      ]
    },
    {
      "cell_type": "markdown",
      "metadata": {
        "id": "BFextshOhTKr"
      },
      "source": [
        "### 3.2 DataGenerator Class"
      ]
    },
    {
      "cell_type": "code",
      "metadata": {
        "colab": {
          "base_uri": "https://localhost:8080/"
        },
        "id": "8k9vpNzMIAi2",
        "outputId": "39bac5ba-7828-4eb9-9266-7eff921a5853"
      },
      "source": [
        "from data.generator import DataGenerator\n",
        "\n",
        "dtgen = DataGenerator(source=source_path,\n",
        "                      batch_size=batch_size,\n",
        "                      charset=charset_base,\n",
        "                      max_text_length=max_text_length)\n",
        "\n",
        "print(f\"Train images: {dtgen.size['train']}\")\n",
        "print(f\"Validation images: {dtgen.size['valid']}\")\n",
        "print(f\"Test images: {dtgen.size['test']}\")"
      ],
      "execution_count": null,
      "outputs": [
        {
          "output_type": "stream",
          "name": "stdout",
          "text": [
            "Train images: 1848\n",
            "Validation images: 35\n",
            "Test images: 148\n"
          ]
        }
      ]
    },
    {
      "cell_type": "code",
      "metadata": {
        "colab": {
          "base_uri": "https://localhost:8080/"
        },
        "id": "wgD05lRLI9ps",
        "outputId": "a1a0c6d0-d940-477d-e364-f9266c71ba28"
      },
      "source": [
        "ground = [x for x in dtgen.dataset['test']['gt']]\n",
        "print(ground)"
      ],
      "execution_count": null,
      "outputs": [
        {
          "output_type": "stream",
          "name": "stdout",
          "text": [
            "[b'Metronidazole: 7.5 mg/kg Per os q6hr', b'Dobutamine: 2.5-15 mcg/kg/min', b'Lorazepam: 1 mg Per os 2 times a day', b'Quinine: 648 mg Per os every 8 hours for 7 days', b'Chlorpromazine: 10-25 mg Per os three times a day', b'Dobutamine: 2.5-15 mcg/kg/min', b'Chlorpromazine: 10-25 mg Per os three times a day', b'Ceftriaxone: 2 g IV q24h', b'Metronidazole: 7.5 mg/kg Per os q6hr', b'Chlorpromazine: 10-25 mg Per os three times a day', b'Lorazepam: 1 mg Per os 2 times a day', b'Risperidone: 2 mg orally i/d', b'Tramadol: 50-100 mg as needed every 4 to 6 hours', b'Risperidone: 2 mg orally i/d', b'Prednisolone: 5-60 mg per day qds', b'Risperidone: 2 mg orally i/d', b'Rituximab: 375 mg/m2 IV once weekly', b'Lorazepam: 1 mg Per os 2 times a day', b'Quinine: 648 mg Per os every 8 hours for 7 days', b'Prednisolone: 5-60 mg per day qds', b'Chlorpromazine: 10-25 mg Per os three times a day', b'Azathioprine: 3-5 mg/kg Per os OD', b'Prednisolone: 5-60 mg per day qds', b'Lorazepam: 1 mg Per os 2 times a day', b'Tramadol: 50-100 mg as needed every 4 to 6 hours', b'Risperidone: 2 mg orally i/d', b'Prednisolone: 5-60 mg per day qds', b'Ceftriaxone: 2 g IV q24h', b'Rituximab: 375 mg/m2 IV once weekly', b'Quinine: 648 mg Per os every 8 hours for 7 days', b'Metronidazole: 7.5 mg/kg Per os q6hr', b'Chlorpromazine: 10-25 mg Per os three times a day', b'Hydroxyzine: 50-100 mg by IJ qds', b'Dobutamine: 2.5-15 mcg/kg/min', b'Quinine: 648 mg Per os every 8 hours for 7 days', b'Dobutamine: 2.5-15 mcg/kg/min', b'Risperidone: 2 mg orally i/d', b'Dobutamine: 2.5-15 mcg/kg/min', b'Risperidone: 2 mg orally i/d', b'Tramadol: 50-100 mg as needed every 4 to 6 hours', b'Prednisolone: 5-60 mg per day qds', b'Tramadol: 50-100 mg as needed every 4 to 6 hours', b'Quinine: 648 mg Per os every 8 hours for 7 days', b'Tramadol: 50-100 mg as needed every 4 to 6 hours', b'Rituximab: 375 mg/m2 IV once weekly', b'Risperidone: 2 mg orally i/d', b'Ceftriaxone: 2 g IV q24h', b'Ceftriaxone: 2 g IV q24h', b'Rituximab: 375 mg/m2 IV once weekly', b'Azathioprine: 3-5 mg/kg Per os OD', b'Ceftriaxone: 2 g IV q24h', b'Azathioprine: 3-5 mg/kg Per os OD', b'Azathioprine: 3-5 mg/kg Per os OD', b'Dobutamine: 2.5-15 mcg/kg/min', b'Risperidone: 2 mg orally i/d', b'Ceftriaxone: 2 g IV q24h', b'Risperidone: 2 mg orally i/d', b'Prednisolone: 5-60 mg per day qds', b'Tramadol: 50-100 mg as needed every 4 to 6 hours', b'Prednisolone: 5-60 mg per day qds', b'Rituximab: 375 mg/m2 IV once weekly', b'Tramadol: 50-100 mg as needed every 4 to 6 hours', b'Chlorpromazine: 10-25 mg Per os three times a day', b'Rituximab: 375 mg/m2 IV once weekly', b'Chlorpromazine: 10-25 mg Per os three times a day', b'Quinine: 648 mg Per os every 8 hours for 7 days', b'Hydroxyzine: 50-100 mg by IJ qds', b'Lorazepam: 1 mg Per os 2 times a day', b'Hydroxyzine: 50-100 mg by IJ qds', b'Tramadol: 50-100 mg as needed every 4 to 6 hours', b'Quinine: 648 mg Per os every 8 hours for 7 days', b'Azathioprine: 3-5 mg/kg Per os OD', b'Dobutamine: 2.5-15 mcg/kg/min', b'Tramadol: 50-100 mg as needed every 4 to 6 hours', b'Azathioprine: 3-5 mg/kg Per os OD', b'Hydroxyzine: 50-100 mg by IJ qds', b'Lorazepam: 1 mg Per os 2 times a day', b'Rituximab: 375 mg/m2 IV once weekly', b'Lorazepam: 1 mg Per os 2 times a day', b'Quinine: 648 mg Per os every 8 hours for 7 days', b'Prednisolone: 5-60 mg per day qds', b'Tramadol: 50-100 mg as needed every 4 to 6 hours', b'Azathioprine: 3-5 mg/kg Per os OD', b'Ceftriaxone: 2 g IV q24h', b'Lorazepam: 1 mg Per os 2 times a day', b'Metronidazole: 7.5 mg/kg Per os q6hr', b'Dobutamine: 2.5-15 mcg/kg/min', b'Risperidone: 2 mg orally i/d', b'Hydroxyzine: 50-100 mg by IJ qds', b'Ceftriaxone: 2 g IV q24h', b'Rituximab: 375 mg/m2 IV once weekly', b'Chlorpromazine: 10-25 mg Per os three times a day', b'Hydroxyzine: 50-100 mg by IJ qds', b'Dobutamine: 2.5-15 mcg/kg/min', b'Quinine: 648 mg Per os every 8 hours for 7 days', b'Tramadol: 50-100 mg as needed every 4 to 6 hours', b'Ceftriaxone: 2 g IV q24h', b'Quinine: 648 mg Per os every 8 hours for 7 days', b'Metronidazole: 7.5 mg/kg Per os q6hr', b'Hydroxyzine: 50-100 mg by IJ qds', b'Ceftriaxone: 2 g IV q24h', b'Risperidone: 2 mg orally i/d', b'Dobutamine: 2.5-15 mcg/kg/min', b'Azathioprine: 3-5 mg/kg Per os OD', b'Rituximab: 375 mg/m2 IV once weekly', b'Tramadol: 50-100 mg as needed every 4 to 6 hours', b'Prednisolone: 5-60 mg per day qds', b'Prednisolone: 5-60 mg per day qds', b'Ceftriaxone: 2 g IV q24h', b'Metronidazole: 7.5 mg/kg Per os q6hr', b'Lorazepam: 1 mg Per os 2 times a day', b'Tramadol: 50-100 mg as needed every 4 to 6 hours', b'Azathioprine: 3-5 mg/kg Per os OD', b'Hydroxyzine: 50-100 mg by IJ qds', b'Dobutamine: 2.5-15 mcg/kg/min', b'Metronidazole: 7.5 mg/kg Per os q6hr', b'Quinine: 648 mg Per os every 8 hours for 7 days', b'Hydroxyzine: 50-100 mg by IJ qds', b'Azathioprine: 3-5 mg/kg Per os OD', b'Prednisolone: 5-60 mg per day qds', b'Hydroxyzine: 50-100 mg by IJ qds', b'Chlorpromazine: 10-25 mg Per os three times a day', b'Metronidazole: 7.5 mg/kg Per os q6hr', b'Chlorpromazine: 10-25 mg Per os three times a day', b'Hydroxyzine: 50-100 mg by IJ qds', b'Lorazepam: 1 mg Per os 2 times a day', b'Quinine: 648 mg Per os every 8 hours for 7 days', b'Metronidazole: 7.5 mg/kg Per os q6hr', b'Metronidazole: 7.5 mg/kg Per os q6hr', b'Rituximab: 375 mg/m2 IV once weekly', b'Lorazepam: 1 mg Per os 2 times a day', b'Rituximab: 375 mg/m2 IV once weekly', b'Prednisolone: 5-60 mg per day qds', b'Lorazepam: 1 mg Per os 2 times a day', b'Metronidazole: 7.5 mg/kg Per os q6hr', b'Rituximab: 375 mg/m2 IV once weekly', b'Ceftriaxone: 2 g IV q24h', b'Metronidazole: 7.5 mg/kg Per os q6hr', b'Metronidazole: 7.5 mg/kg Per os q6hr', b'Chlorpromazine: 10-25 mg Per os three times a day', b'Risperidone: 2 mg orally i/d', b'Quinine: 648 mg Per os every 8 hours for 7 days', b'Azathioprine: 3-5 mg/kg Per os OD', b'Dobutamine: 2.5-15 mcg/kg/min', b'Hydroxyzine: 50-100 mg by IJ qds', b'Risperidone: 2 mg orally i/d', b'Azathioprine: 3-5 mg/kg Per os OD', b'Chlorpromazine: 10-25 mg Per os three times a day']\n"
          ]
        }
      ]
    },
    {
      "cell_type": "markdown",
      "metadata": {
        "id": "-OdgNLK0hYAA"
      },
      "source": [
        "### 3.3 HTRModel Class"
      ]
    },
    {
      "cell_type": "code",
      "metadata": {
        "colab": {
          "base_uri": "https://localhost:8080/"
        },
        "id": "nV0GreStISTR",
        "outputId": "bb77a351-dd7f-441c-b592-8832d6feb8b5"
      },
      "source": [
        "from network.model import HTRModel\n",
        "\n",
        "# create and compile HTRModel\n",
        "model = HTRModel(architecture=arch,\n",
        "                 input_size=input_size,\n",
        "                 vocab_size=dtgen.tokenizer.vocab_size,\n",
        "                 beam_width=10,\n",
        "                 stop_tolerance=20,\n",
        "                 reduce_tolerance=15)\n",
        "\n",
        "model.compile(learning_rate=0.001, initial_step=0, target=\"model.jpg\", output=output_path,)\n",
        "model.summary(output_path, \"summary.txt\")\n",
        "\n",
        "# get default callbacks and load checkpoint weights file (HDF5) if exists\n",
        "model.load_checkpoint(target=target_path)\n",
        "\n",
        "callbacks = model.get_callbacks(logdir=output_path, checkpoint=target_path, verbose=1)"
      ],
      "execution_count": null,
      "outputs": [
        {
          "output_type": "stream",
          "name": "stdout",
          "text": [
            "Model: \"model\"\n",
            "_________________________________________________________________\n",
            " Layer (type)                Output Shape              Param #   \n",
            "=================================================================\n",
            " input (InputLayer)          [(None, 1024, 128, 1)]    0         \n",
            "                                                                 \n",
            " conv2d (Conv2D)             (None, 1024, 128, 16)     160       \n",
            "                                                                 \n",
            " batch_normalization (BatchN  (None, 1024, 128, 16)    64        \n",
            " ormalization)                                                   \n",
            "                                                                 \n",
            " conv2d_1 (Conv2D)           (None, 1024, 128, 16)     2320      \n",
            "                                                                 \n",
            " batch_normalization_1 (Batc  (None, 1024, 128, 16)    64        \n",
            " hNormalization)                                                 \n",
            "                                                                 \n",
            " dropout (Dropout)           (None, 1024, 128, 16)     0         \n",
            "                                                                 \n",
            " max_pooling2d (MaxPooling2D  (None, 512, 64, 16)      0         \n",
            " )                                                               \n",
            "                                                                 \n",
            " conv2d_2 (Conv2D)           (None, 512, 64, 32)       4640      \n",
            "                                                                 \n",
            " batch_normalization_2 (Batc  (None, 512, 64, 32)      128       \n",
            " hNormalization)                                                 \n",
            "                                                                 \n",
            " dropout_1 (Dropout)         (None, 512, 64, 32)       0         \n",
            "                                                                 \n",
            " conv2d_3 (Conv2D)           (None, 512, 64, 32)       9248      \n",
            "                                                                 \n",
            " batch_normalization_3 (Batc  (None, 512, 64, 32)      128       \n",
            " hNormalization)                                                 \n",
            "                                                                 \n",
            " dropout_2 (Dropout)         (None, 512, 64, 32)       0         \n",
            "                                                                 \n",
            " max_pooling2d_1 (MaxPooling  (None, 256, 32, 32)      0         \n",
            " 2D)                                                             \n",
            "                                                                 \n",
            " conv2d_4 (Conv2D)           (None, 256, 32, 64)       18496     \n",
            "                                                                 \n",
            " batch_normalization_4 (Batc  (None, 256, 32, 64)      256       \n",
            " hNormalization)                                                 \n",
            "                                                                 \n",
            " dropout_3 (Dropout)         (None, 256, 32, 64)       0         \n",
            "                                                                 \n",
            " max_pooling2d_2 (MaxPooling  (None, 128, 32, 64)      0         \n",
            " 2D)                                                             \n",
            "                                                                 \n",
            " reshape (Reshape)           (None, 128, 2048)         0         \n",
            "                                                                 \n",
            " bidirectional (Bidirectiona  (None, 128, 256)         2229248   \n",
            " l)                                                              \n",
            "                                                                 \n",
            " bidirectional_1 (Bidirectio  (None, 128, 256)         394240    \n",
            " nal)                                                            \n",
            "                                                                 \n",
            " dense (Dense)               (None, 128, 98)           25186     \n",
            "                                                                 \n",
            "=================================================================\n",
            "Total params: 2,684,178\n",
            "Trainable params: 2,683,858\n",
            "Non-trainable params: 320\n",
            "_________________________________________________________________\n"
          ]
        }
      ]
    },
    {
      "cell_type": "markdown",
      "metadata": {
        "id": "T1fnz0Eugqru"
      },
      "source": [
        "## 4 Training"
      ]
    },
    {
      "cell_type": "code",
      "metadata": {
        "colab": {
          "base_uri": "https://localhost:8080/"
        },
        "id": "2P6MSoxCISlD",
        "outputId": "5fb65403-1e0d-4d9f-a72d-e240388dfe93"
      },
      "source": [
        "# to calculate total and average time per epoch\n",
        "start_time = datetime.datetime.now()\n",
        "\n",
        "h = model.fit(x=dtgen.next_train_batch(),\n",
        "              epochs=epochs,\n",
        "              steps_per_epoch=dtgen.steps['train'],\n",
        "              validation_data=dtgen.next_valid_batch(),\n",
        "              validation_steps=dtgen.steps['valid'],\n",
        "              callbacks=callbacks,\n",
        "              shuffle=True,\n",
        "              verbose=1)\n",
        "\n",
        "total_time = datetime.datetime.now() - start_time\n",
        "\n",
        "loss = h.history['loss']\n",
        "val_loss = h.history['val_loss']\n",
        "\n",
        "min_val_loss = min(val_loss)\n",
        "min_val_loss_i = val_loss.index(min_val_loss)\n",
        "\n",
        "time_epoch = (total_time / len(loss))\n",
        "total_item = (dtgen.size['train'] + dtgen.size['valid'])\n",
        "\n",
        "t_corpus = \"\\n\".join([\n",
        "    f\"Total train images:      {dtgen.size['train']}\",\n",
        "    f\"Total validation images: {dtgen.size['valid']}\",\n",
        "    f\"Batch:                   {dtgen.batch_size}\\n\",\n",
        "    f\"Total time:              {total_time}\",\n",
        "    f\"Time per epoch:          {time_epoch}\",\n",
        "    f\"Time per item:           {time_epoch / total_item}\\n\",\n",
        "    f\"Total epochs:            {len(loss)}\",\n",
        "    f\"Best epoch               {min_val_loss_i + 1}\\n\",\n",
        "    f\"Training loss:           {loss[min_val_loss_i]:.8f}\",\n",
        "    f\"Validation loss:         {min_val_loss:.8f}\"\n",
        "])\n",
        "\n",
        "with open(os.path.join(output_path, \"train.txt\"), \"w\") as lg:\n",
        "    lg.write(t_corpus)\n",
        "    print(t_corpus)"
      ],
      "execution_count": null,
      "outputs": [
        {
          "output_type": "stream",
          "name": "stdout",
          "text": [
            "Epoch 1/200\n",
            "116/116 [==============================] - ETA: 0s - loss: 130.2279 - accuracy: 2.2406e-04\n",
            "Epoch 00001: val_loss improved from inf to 617.35785, saving model to ../output/doctors/cnn_bilstm/!simpler no preproc with seed/checkpoint_weights.hdf5\n",
            "116/116 [==============================] - 64s 388ms/step - loss: 130.2279 - accuracy: 2.2406e-04 - val_loss: 617.3578 - val_accuracy: 0.0000e+00 - lr: 0.0010\n",
            "Epoch 2/200\n",
            "116/116 [==============================] - ETA: 0s - loss: 103.2532 - accuracy: 0.0014\n",
            "Epoch 00002: val_loss improved from 617.35785 to 580.93469, saving model to ../output/doctors/cnn_bilstm/!simpler no preproc with seed/checkpoint_weights.hdf5\n",
            "116/116 [==============================] - 42s 358ms/step - loss: 103.2532 - accuracy: 0.0014 - val_loss: 580.9347 - val_accuracy: 0.0000e+00 - lr: 0.0010\n",
            "Epoch 3/200\n",
            "116/116 [==============================] - ETA: 0s - loss: 91.6032 - accuracy: 0.0029\n",
            "Epoch 00003: val_loss improved from 580.93469 to 474.34653, saving model to ../output/doctors/cnn_bilstm/!simpler no preproc with seed/checkpoint_weights.hdf5\n",
            "116/116 [==============================] - 42s 358ms/step - loss: 91.6032 - accuracy: 0.0029 - val_loss: 474.3465 - val_accuracy: 0.0020 - lr: 0.0010\n",
            "Epoch 4/200\n",
            "116/116 [==============================] - ETA: 0s - loss: 82.9880 - accuracy: 0.0048\n",
            "Epoch 00004: val_loss improved from 474.34653 to 197.71957, saving model to ../output/doctors/cnn_bilstm/!simpler no preproc with seed/checkpoint_weights.hdf5\n",
            "116/116 [==============================] - 42s 359ms/step - loss: 82.9880 - accuracy: 0.0048 - val_loss: 197.7196 - val_accuracy: 0.0123 - lr: 0.0010\n",
            "Epoch 5/200\n",
            "116/116 [==============================] - ETA: 0s - loss: 76.0898 - accuracy: 0.0076\n",
            "Epoch 00005: val_loss improved from 197.71957 to 91.06059, saving model to ../output/doctors/cnn_bilstm/!simpler no preproc with seed/checkpoint_weights.hdf5\n",
            "116/116 [==============================] - 42s 358ms/step - loss: 76.0898 - accuracy: 0.0076 - val_loss: 91.0606 - val_accuracy: 0.0074 - lr: 0.0010\n",
            "Epoch 6/200\n",
            "116/116 [==============================] - ETA: 0s - loss: 70.0597 - accuracy: 0.0097\n",
            "Epoch 00006: val_loss improved from 91.06059 to 74.43049, saving model to ../output/doctors/cnn_bilstm/!simpler no preproc with seed/checkpoint_weights.hdf5\n",
            "116/116 [==============================] - 41s 357ms/step - loss: 70.0597 - accuracy: 0.0097 - val_loss: 74.4305 - val_accuracy: 0.0067 - lr: 0.0010\n",
            "Epoch 7/200\n",
            "116/116 [==============================] - ETA: 0s - loss: 65.1509 - accuracy: 0.0108\n",
            "Epoch 00007: val_loss did not improve from 74.43049\n",
            "116/116 [==============================] - 41s 354ms/step - loss: 65.1509 - accuracy: 0.0108 - val_loss: 101.0396 - val_accuracy: 0.0051 - lr: 0.0010\n",
            "Epoch 8/200\n",
            "116/116 [==============================] - ETA: 0s - loss: 59.3571 - accuracy: 0.0120\n",
            "Epoch 00008: val_loss improved from 74.43049 to 60.68711, saving model to ../output/doctors/cnn_bilstm/!simpler no preproc with seed/checkpoint_weights.hdf5\n",
            "116/116 [==============================] - 41s 354ms/step - loss: 59.3571 - accuracy: 0.0120 - val_loss: 60.6871 - val_accuracy: 0.0089 - lr: 0.0010\n",
            "Epoch 9/200\n",
            "116/116 [==============================] - ETA: 0s - loss: 55.1843 - accuracy: 0.0130\n",
            "Epoch 00009: val_loss did not improve from 60.68711\n",
            "116/116 [==============================] - 41s 352ms/step - loss: 55.1843 - accuracy: 0.0130 - val_loss: 69.1956 - val_accuracy: 0.0094 - lr: 0.0010\n",
            "Epoch 10/200\n",
            "116/116 [==============================] - ETA: 0s - loss: 50.0493 - accuracy: 0.0137\n",
            "Epoch 00010: val_loss improved from 60.68711 to 57.77240, saving model to ../output/doctors/cnn_bilstm/!simpler no preproc with seed/checkpoint_weights.hdf5\n",
            "116/116 [==============================] - 41s 354ms/step - loss: 50.0493 - accuracy: 0.0137 - val_loss: 57.7724 - val_accuracy: 0.0127 - lr: 0.0010\n",
            "Epoch 11/200\n",
            "116/116 [==============================] - ETA: 0s - loss: 46.6580 - accuracy: 0.0150\n",
            "Epoch 00011: val_loss did not improve from 57.77240\n",
            "116/116 [==============================] - 41s 356ms/step - loss: 46.6580 - accuracy: 0.0150 - val_loss: 104.2062 - val_accuracy: 0.0127 - lr: 0.0010\n",
            "Epoch 12/200\n",
            "116/116 [==============================] - ETA: 0s - loss: 39.8673 - accuracy: 0.0183\n",
            "Epoch 00012: val_loss improved from 57.77240 to 56.77101, saving model to ../output/doctors/cnn_bilstm/!simpler no preproc with seed/checkpoint_weights.hdf5\n",
            "116/116 [==============================] - 41s 354ms/step - loss: 39.8673 - accuracy: 0.0183 - val_loss: 56.7710 - val_accuracy: 0.0174 - lr: 0.0010\n",
            "Epoch 13/200\n",
            "116/116 [==============================] - ETA: 0s - loss: 35.8517 - accuracy: 0.0227\n",
            "Epoch 00013: val_loss did not improve from 56.77101\n",
            "116/116 [==============================] - 41s 352ms/step - loss: 35.8517 - accuracy: 0.0227 - val_loss: 223.2708 - val_accuracy: 0.0163 - lr: 0.0010\n",
            "Epoch 14/200\n",
            "116/116 [==============================] - ETA: 0s - loss: 32.9111 - accuracy: 0.0246\n",
            "Epoch 00014: val_loss did not improve from 56.77101\n",
            "116/116 [==============================] - 41s 353ms/step - loss: 32.9111 - accuracy: 0.0246 - val_loss: 57.6519 - val_accuracy: 0.0170 - lr: 0.0010\n",
            "Epoch 15/200\n",
            "116/116 [==============================] - ETA: 0s - loss: 28.3347 - accuracy: 0.0272\n",
            "Epoch 00015: val_loss did not improve from 56.77101\n",
            "116/116 [==============================] - 41s 350ms/step - loss: 28.3347 - accuracy: 0.0272 - val_loss: 282.3658 - val_accuracy: 0.0199 - lr: 0.0010\n",
            "Epoch 16/200\n",
            "116/116 [==============================] - ETA: 0s - loss: 24.9456 - accuracy: 0.0302\n",
            "Epoch 00016: val_loss improved from 56.77101 to 31.52387, saving model to ../output/doctors/cnn_bilstm/!simpler no preproc with seed/checkpoint_weights.hdf5\n",
            "116/116 [==============================] - 41s 356ms/step - loss: 24.9456 - accuracy: 0.0302 - val_loss: 31.5239 - val_accuracy: 0.0290 - lr: 0.0010\n",
            "Epoch 17/200\n",
            "116/116 [==============================] - ETA: 0s - loss: 22.4502 - accuracy: 0.0320\n",
            "Epoch 00017: val_loss did not improve from 31.52387\n",
            "116/116 [==============================] - 41s 350ms/step - loss: 22.4502 - accuracy: 0.0320 - val_loss: 33.5985 - val_accuracy: 0.0290 - lr: 0.0010\n",
            "Epoch 18/200\n",
            "116/116 [==============================] - ETA: 0s - loss: 21.2613 - accuracy: 0.0316\n",
            "Epoch 00018: val_loss did not improve from 31.52387\n",
            "116/116 [==============================] - 41s 350ms/step - loss: 21.2613 - accuracy: 0.0316 - val_loss: 251.6868 - val_accuracy: 0.0065 - lr: 0.0010\n",
            "Epoch 19/200\n",
            "116/116 [==============================] - ETA: 0s - loss: 17.4041 - accuracy: 0.0348\n",
            "Epoch 00019: val_loss did not improve from 31.52387\n",
            "116/116 [==============================] - 41s 350ms/step - loss: 17.4041 - accuracy: 0.0348 - val_loss: 196.1900 - val_accuracy: 0.0132 - lr: 0.0010\n",
            "Epoch 20/200\n",
            "116/116 [==============================] - ETA: 0s - loss: 16.3614 - accuracy: 0.0359\n",
            "Epoch 00020: val_loss did not improve from 31.52387\n",
            "116/116 [==============================] - 41s 351ms/step - loss: 16.3614 - accuracy: 0.0359 - val_loss: 107.9111 - val_accuracy: 0.0230 - lr: 0.0010\n",
            "Epoch 21/200\n",
            "116/116 [==============================] - ETA: 0s - loss: 14.9028 - accuracy: 0.0366\n",
            "Epoch 00021: val_loss did not improve from 31.52387\n",
            "116/116 [==============================] - 42s 359ms/step - loss: 14.9028 - accuracy: 0.0366 - val_loss: 108.8677 - val_accuracy: 0.0141 - lr: 0.0010\n",
            "Epoch 22/200\n",
            "116/116 [==============================] - ETA: 0s - loss: 12.4986 - accuracy: 0.0372\n",
            "Epoch 00022: val_loss improved from 31.52387 to 17.77669, saving model to ../output/doctors/cnn_bilstm/!simpler no preproc with seed/checkpoint_weights.hdf5\n",
            "116/116 [==============================] - 41s 358ms/step - loss: 12.4986 - accuracy: 0.0372 - val_loss: 17.7767 - val_accuracy: 0.0317 - lr: 0.0010\n",
            "Epoch 23/200\n",
            "116/116 [==============================] - ETA: 0s - loss: 11.9412 - accuracy: 0.0375\n",
            "Epoch 00023: val_loss did not improve from 17.77669\n",
            "116/116 [==============================] - 41s 350ms/step - loss: 11.9412 - accuracy: 0.0375 - val_loss: 31.9045 - val_accuracy: 0.0306 - lr: 0.0010\n",
            "Epoch 24/200\n",
            "116/116 [==============================] - ETA: 0s - loss: 9.4511 - accuracy: 0.0381\n",
            "Epoch 00024: val_loss did not improve from 17.77669\n",
            "116/116 [==============================] - 41s 350ms/step - loss: 9.4511 - accuracy: 0.0381 - val_loss: 165.0473 - val_accuracy: 0.0205 - lr: 0.0010\n",
            "Epoch 25/200\n",
            "116/116 [==============================] - ETA: 0s - loss: 13.7173 - accuracy: 0.0364\n",
            "Epoch 00025: val_loss did not improve from 17.77669\n",
            "116/116 [==============================] - 41s 350ms/step - loss: 13.7173 - accuracy: 0.0364 - val_loss: 26.2990 - val_accuracy: 0.0308 - lr: 0.0010\n",
            "Epoch 26/200\n",
            "116/116 [==============================] - ETA: 0s - loss: 10.8568 - accuracy: 0.0380\n",
            "Epoch 00026: val_loss did not improve from 17.77669\n",
            "116/116 [==============================] - 41s 352ms/step - loss: 10.8568 - accuracy: 0.0380 - val_loss: 205.7450 - val_accuracy: 0.0107 - lr: 0.0010\n",
            "Epoch 27/200\n",
            "116/116 [==============================] - ETA: 0s - loss: 13.3836 - accuracy: 0.0371\n",
            "Epoch 00027: val_loss did not improve from 17.77669\n",
            "116/116 [==============================] - 41s 353ms/step - loss: 13.3836 - accuracy: 0.0371 - val_loss: 72.6307 - val_accuracy: 0.0054 - lr: 0.0010\n",
            "Epoch 28/200\n",
            "116/116 [==============================] - ETA: 0s - loss: 9.8931 - accuracy: 0.0381\n",
            "Epoch 00028: val_loss did not improve from 17.77669\n",
            "116/116 [==============================] - 41s 350ms/step - loss: 9.8931 - accuracy: 0.0381 - val_loss: 20.2093 - val_accuracy: 0.0344 - lr: 0.0010\n",
            "Epoch 29/200\n",
            "116/116 [==============================] - ETA: 0s - loss: 8.7739 - accuracy: 0.0382\n",
            "Epoch 00029: val_loss did not improve from 17.77669\n",
            "116/116 [==============================] - 40s 349ms/step - loss: 8.7739 - accuracy: 0.0382 - val_loss: 93.7359 - val_accuracy: 0.0185 - lr: 0.0010\n",
            "Epoch 30/200\n",
            "116/116 [==============================] - ETA: 0s - loss: 6.7674 - accuracy: 0.0392\n",
            "Epoch 00030: val_loss did not improve from 17.77669\n",
            "116/116 [==============================] - 41s 350ms/step - loss: 6.7674 - accuracy: 0.0392 - val_loss: 19.0879 - val_accuracy: 0.0326 - lr: 0.0010\n",
            "Epoch 31/200\n",
            "116/116 [==============================] - ETA: 0s - loss: 6.8532 - accuracy: 0.0396\n",
            "Epoch 00031: val_loss did not improve from 17.77669\n",
            "116/116 [==============================] - 42s 358ms/step - loss: 6.8532 - accuracy: 0.0396 - val_loss: 229.9368 - val_accuracy: 0.0143 - lr: 0.0010\n",
            "Epoch 32/200\n",
            "116/116 [==============================] - ETA: 0s - loss: 6.0444 - accuracy: 0.0392\n",
            "Epoch 00032: val_loss did not improve from 17.77669\n",
            "116/116 [==============================] - 41s 352ms/step - loss: 6.0444 - accuracy: 0.0392 - val_loss: 22.8002 - val_accuracy: 0.0315 - lr: 0.0010\n",
            "Epoch 33/200\n",
            "116/116 [==============================] - ETA: 0s - loss: 5.3493 - accuracy: 0.0396\n",
            "Epoch 00033: val_loss did not improve from 17.77669\n",
            "116/116 [==============================] - 41s 353ms/step - loss: 5.3493 - accuracy: 0.0396 - val_loss: 96.2812 - val_accuracy: 0.0223 - lr: 0.0010\n",
            "Epoch 34/200\n",
            "116/116 [==============================] - ETA: 0s - loss: 4.0322 - accuracy: 0.0400\n",
            "Epoch 00034: val_loss did not improve from 17.77669\n",
            "116/116 [==============================] - 41s 350ms/step - loss: 4.0322 - accuracy: 0.0400 - val_loss: 143.5904 - val_accuracy: 0.0154 - lr: 0.0010\n",
            "Epoch 35/200\n",
            "116/116 [==============================] - ETA: 0s - loss: 4.3874 - accuracy: 0.0397\n",
            "Epoch 00035: val_loss did not improve from 17.77669\n",
            "116/116 [==============================] - 41s 353ms/step - loss: 4.3874 - accuracy: 0.0397 - val_loss: 24.1842 - val_accuracy: 0.0321 - lr: 0.0010\n",
            "Epoch 36/200\n",
            "116/116 [==============================] - ETA: 0s - loss: 4.1480 - accuracy: 0.0399\n",
            "Epoch 00036: val_loss did not improve from 17.77669\n",
            "116/116 [==============================] - 41s 351ms/step - loss: 4.1480 - accuracy: 0.0399 - val_loss: 23.7997 - val_accuracy: 0.0315 - lr: 0.0010\n",
            "Epoch 37/200\n",
            "116/116 [==============================] - ETA: 0s - loss: 4.5976 - accuracy: 0.0395\n",
            "Epoch 00037: val_loss did not improve from 17.77669\n",
            "\n",
            "Epoch 00037: ReduceLROnPlateau reducing learning rate to 0.00020000000949949026.\n",
            "116/116 [==============================] - 41s 353ms/step - loss: 4.5976 - accuracy: 0.0395 - val_loss: 18.4730 - val_accuracy: 0.0324 - lr: 0.0010\n",
            "Epoch 38/200\n",
            "116/116 [==============================] - ETA: 0s - loss: 3.6165 - accuracy: 0.0401\n",
            "Epoch 00038: val_loss improved from 17.77669 to 13.73395, saving model to ../output/doctors/cnn_bilstm/!simpler no preproc with seed/checkpoint_weights.hdf5\n",
            "116/116 [==============================] - 41s 357ms/step - loss: 3.6165 - accuracy: 0.0401 - val_loss: 13.7339 - val_accuracy: 0.0364 - lr: 2.0000e-04\n",
            "Epoch 39/200\n",
            "116/116 [==============================] - ETA: 0s - loss: 2.9336 - accuracy: 0.0403\n",
            "Epoch 00039: val_loss did not improve from 13.73395\n",
            "116/116 [==============================] - 41s 353ms/step - loss: 2.9336 - accuracy: 0.0403 - val_loss: 16.5140 - val_accuracy: 0.0350 - lr: 2.0000e-04\n",
            "Epoch 40/200\n",
            "116/116 [==============================] - ETA: 0s - loss: 2.6853 - accuracy: 0.0405\n",
            "Epoch 00040: val_loss did not improve from 13.73395\n",
            "116/116 [==============================] - 41s 353ms/step - loss: 2.6853 - accuracy: 0.0405 - val_loss: 15.4973 - val_accuracy: 0.0357 - lr: 2.0000e-04\n",
            "Epoch 41/200\n",
            "116/116 [==============================] - ETA: 0s - loss: 2.5344 - accuracy: 0.0406\n",
            "Epoch 00041: val_loss improved from 13.73395 to 12.99491, saving model to ../output/doctors/cnn_bilstm/!simpler no preproc with seed/checkpoint_weights.hdf5\n",
            "116/116 [==============================] - 42s 361ms/step - loss: 2.5344 - accuracy: 0.0406 - val_loss: 12.9949 - val_accuracy: 0.0359 - lr: 2.0000e-04\n",
            "Epoch 42/200\n",
            "116/116 [==============================] - ETA: 0s - loss: 2.5147 - accuracy: 0.0405\n",
            "Epoch 00042: val_loss did not improve from 12.99491\n",
            "116/116 [==============================] - 41s 351ms/step - loss: 2.5147 - accuracy: 0.0405 - val_loss: 14.9067 - val_accuracy: 0.0357 - lr: 2.0000e-04\n",
            "Epoch 43/200\n",
            "116/116 [==============================] - ETA: 0s - loss: 2.2957 - accuracy: 0.0406\n",
            "Epoch 00043: val_loss did not improve from 12.99491\n",
            "116/116 [==============================] - 41s 350ms/step - loss: 2.2957 - accuracy: 0.0406 - val_loss: 13.3155 - val_accuracy: 0.0366 - lr: 2.0000e-04\n",
            "Epoch 44/200\n",
            "116/116 [==============================] - ETA: 0s - loss: 2.3605 - accuracy: 0.0405\n",
            "Epoch 00044: val_loss did not improve from 12.99491\n",
            "116/116 [==============================] - 41s 351ms/step - loss: 2.3605 - accuracy: 0.0405 - val_loss: 15.3933 - val_accuracy: 0.0368 - lr: 2.0000e-04\n",
            "Epoch 45/200\n",
            "116/116 [==============================] - ETA: 0s - loss: 2.2180 - accuracy: 0.0406\n",
            "Epoch 00045: val_loss improved from 12.99491 to 11.45701, saving model to ../output/doctors/cnn_bilstm/!simpler no preproc with seed/checkpoint_weights.hdf5\n",
            "116/116 [==============================] - 41s 354ms/step - loss: 2.2180 - accuracy: 0.0406 - val_loss: 11.4570 - val_accuracy: 0.0362 - lr: 2.0000e-04\n",
            "Epoch 46/200\n",
            "116/116 [==============================] - ETA: 0s - loss: 2.1418 - accuracy: 0.0407\n",
            "Epoch 00046: val_loss did not improve from 11.45701\n",
            "116/116 [==============================] - 41s 353ms/step - loss: 2.1418 - accuracy: 0.0407 - val_loss: 13.7269 - val_accuracy: 0.0366 - lr: 2.0000e-04\n",
            "Epoch 47/200\n",
            "116/116 [==============================] - ETA: 0s - loss: 2.2527 - accuracy: 0.0404\n",
            "Epoch 00047: val_loss did not improve from 11.45701\n",
            "116/116 [==============================] - 41s 350ms/step - loss: 2.2527 - accuracy: 0.0404 - val_loss: 15.4425 - val_accuracy: 0.0353 - lr: 2.0000e-04\n",
            "Epoch 48/200\n",
            "116/116 [==============================] - ETA: 0s - loss: 2.0661 - accuracy: 0.0406\n",
            "Epoch 00048: val_loss did not improve from 11.45701\n",
            "116/116 [==============================] - 41s 353ms/step - loss: 2.0661 - accuracy: 0.0406 - val_loss: 15.2761 - val_accuracy: 0.0353 - lr: 2.0000e-04\n",
            "Epoch 49/200\n",
            "116/116 [==============================] - ETA: 0s - loss: 1.9997 - accuracy: 0.0406\n",
            "Epoch 00049: val_loss did not improve from 11.45701\n",
            "116/116 [==============================] - 41s 354ms/step - loss: 1.9997 - accuracy: 0.0406 - val_loss: 20.5772 - val_accuracy: 0.0364 - lr: 2.0000e-04\n",
            "Epoch 50/200\n",
            "116/116 [==============================] - ETA: 0s - loss: 2.1017 - accuracy: 0.0406\n",
            "Epoch 00050: val_loss did not improve from 11.45701\n",
            "116/116 [==============================] - 41s 352ms/step - loss: 2.1017 - accuracy: 0.0406 - val_loss: 15.2487 - val_accuracy: 0.0359 - lr: 2.0000e-04\n",
            "Epoch 51/200\n",
            "116/116 [==============================] - ETA: 0s - loss: 1.9492 - accuracy: 0.0405\n",
            "Epoch 00051: val_loss did not improve from 11.45701\n",
            "116/116 [==============================] - 41s 357ms/step - loss: 1.9492 - accuracy: 0.0405 - val_loss: 13.9114 - val_accuracy: 0.0355 - lr: 2.0000e-04\n",
            "Epoch 52/200\n",
            "116/116 [==============================] - ETA: 0s - loss: 1.8784 - accuracy: 0.0405\n",
            "Epoch 00052: val_loss did not improve from 11.45701\n",
            "116/116 [==============================] - 41s 353ms/step - loss: 1.8784 - accuracy: 0.0405 - val_loss: 14.0608 - val_accuracy: 0.0364 - lr: 2.0000e-04\n",
            "Epoch 53/200\n",
            "116/116 [==============================] - ETA: 0s - loss: 1.8445 - accuracy: 0.0407\n",
            "Epoch 00053: val_loss did not improve from 11.45701\n",
            "116/116 [==============================] - 41s 350ms/step - loss: 1.8445 - accuracy: 0.0407 - val_loss: 17.0895 - val_accuracy: 0.0362 - lr: 2.0000e-04\n",
            "Epoch 54/200\n",
            "116/116 [==============================] - ETA: 0s - loss: 1.7449 - accuracy: 0.0406\n",
            "Epoch 00054: val_loss did not improve from 11.45701\n",
            "116/116 [==============================] - 41s 350ms/step - loss: 1.7449 - accuracy: 0.0406 - val_loss: 12.4860 - val_accuracy: 0.0364 - lr: 2.0000e-04\n",
            "Epoch 55/200\n",
            "116/116 [==============================] - ETA: 0s - loss: 1.6508 - accuracy: 0.0407\n",
            "Epoch 00055: val_loss did not improve from 11.45701\n",
            "116/116 [==============================] - 41s 351ms/step - loss: 1.6508 - accuracy: 0.0407 - val_loss: 12.7100 - val_accuracy: 0.0357 - lr: 2.0000e-04\n",
            "Epoch 56/200\n",
            "116/116 [==============================] - ETA: 0s - loss: 1.6077 - accuracy: 0.0406\n",
            "Epoch 00056: val_loss did not improve from 11.45701\n",
            "116/116 [==============================] - 41s 350ms/step - loss: 1.6077 - accuracy: 0.0406 - val_loss: 13.5833 - val_accuracy: 0.0357 - lr: 2.0000e-04\n",
            "Epoch 57/200\n",
            "116/116 [==============================] - ETA: 0s - loss: 1.5669 - accuracy: 0.0406\n",
            "Epoch 00057: val_loss did not improve from 11.45701\n",
            "116/116 [==============================] - 41s 350ms/step - loss: 1.5669 - accuracy: 0.0406 - val_loss: 13.0903 - val_accuracy: 0.0359 - lr: 2.0000e-04\n",
            "Epoch 58/200\n",
            "116/116 [==============================] - ETA: 0s - loss: 1.5558 - accuracy: 0.0405\n",
            "Epoch 00058: val_loss did not improve from 11.45701\n",
            "116/116 [==============================] - 41s 351ms/step - loss: 1.5558 - accuracy: 0.0405 - val_loss: 13.8848 - val_accuracy: 0.0364 - lr: 2.0000e-04\n",
            "Epoch 59/200\n",
            "116/116 [==============================] - ETA: 0s - loss: 1.4305 - accuracy: 0.0405\n",
            "Epoch 00059: val_loss did not improve from 11.45701\n",
            "116/116 [==============================] - 41s 351ms/step - loss: 1.4305 - accuracy: 0.0405 - val_loss: 13.5640 - val_accuracy: 0.0366 - lr: 2.0000e-04\n",
            "Epoch 60/200\n",
            "116/116 [==============================] - ETA: 0s - loss: 1.4306 - accuracy: 0.0406\n",
            "Epoch 00060: val_loss did not improve from 11.45701\n",
            "\n",
            "Epoch 00060: ReduceLROnPlateau reducing learning rate to 4.0000001899898055e-05.\n",
            "116/116 [==============================] - 41s 350ms/step - loss: 1.4306 - accuracy: 0.0406 - val_loss: 13.5667 - val_accuracy: 0.0371 - lr: 2.0000e-04\n",
            "Epoch 61/200\n",
            "116/116 [==============================] - ETA: 0s - loss: 1.4021 - accuracy: 0.0405\n",
            "Epoch 00061: val_loss did not improve from 11.45701\n",
            "116/116 [==============================] - 41s 357ms/step - loss: 1.4021 - accuracy: 0.0405 - val_loss: 13.9050 - val_accuracy: 0.0368 - lr: 4.0000e-05\n",
            "Epoch 62/200\n",
            "116/116 [==============================] - ETA: 0s - loss: 1.3453 - accuracy: 0.0405\n",
            "Epoch 00062: val_loss did not improve from 11.45701\n",
            "116/116 [==============================] - 41s 350ms/step - loss: 1.3453 - accuracy: 0.0405 - val_loss: 13.9819 - val_accuracy: 0.0368 - lr: 4.0000e-05\n",
            "Epoch 63/200\n",
            "116/116 [==============================] - ETA: 0s - loss: 1.3419 - accuracy: 0.0406\n",
            "Epoch 00063: val_loss did not improve from 11.45701\n",
            "116/116 [==============================] - 41s 350ms/step - loss: 1.3419 - accuracy: 0.0406 - val_loss: 13.6954 - val_accuracy: 0.0362 - lr: 4.0000e-05\n",
            "Epoch 64/200\n",
            "116/116 [==============================] - ETA: 0s - loss: 1.3616 - accuracy: 0.0405\n",
            "Epoch 00064: val_loss did not improve from 11.45701\n",
            "116/116 [==============================] - 41s 353ms/step - loss: 1.3616 - accuracy: 0.0405 - val_loss: 14.2616 - val_accuracy: 0.0366 - lr: 4.0000e-05\n",
            "Epoch 65/200\n",
            "116/116 [==============================] - ETA: 0s - loss: 1.3453 - accuracy: 0.0406\n",
            "Epoch 00065: val_loss did not improve from 11.45701\n",
            "Restoring model weights from the end of the best epoch: 45.\n",
            "116/116 [==============================] - 41s 353ms/step - loss: 1.3453 - accuracy: 0.0406 - val_loss: 14.2850 - val_accuracy: 0.0368 - lr: 4.0000e-05\n",
            "Epoch 00065: early stopping\n",
            "Total train images:      1848\n",
            "Total validation images: 35\n",
            "Batch:                   16\n",
            "\n",
            "Total time:              0:44:44.053387\n",
            "Time per epoch:          0:00:41.293129\n",
            "Time per item:           0:00:00.021929\n",
            "\n",
            "Total epochs:            65\n",
            "Best epoch               45\n",
            "\n",
            "Training loss:           2.21796918\n",
            "Validation loss:         11.45700645\n"
          ]
        }
      ]
    },
    {
      "cell_type": "code",
      "metadata": {
        "colab": {
          "base_uri": "https://localhost:8080/",
          "height": 607
        },
        "id": "AOP5iJaJbNbq",
        "outputId": "0b4ecacc-dff3-4fda-d390-68d69e71b1ec"
      },
      "source": [
        "from matplotlib import pyplot as plt\n",
        "\n",
        "# import pandas as pd\n",
        "# log_data = open(os.path.join(output_path, \"epochs.log\")).read().splitlines()\n",
        "# loss =[]\n",
        "# val_loss=[]\n",
        "# i = 0\n",
        "# for line in log_data:\n",
        "#   i =i+1\n",
        "#   print(i)\n",
        "#   split = line.split(\";\")\n",
        "#   if split[1].find(\"loss\") == -1:\n",
        "#     loss.append(float(split[1]))\n",
        "#   if split[2].find(\"val_loss\") == -1:\n",
        "#     val_loss.append(float(split[2]))\n",
        "\n",
        "loss = h.history['loss']\n",
        "val_loss = h.history['val_loss']\n",
        "\n",
        "\n",
        "epochs_range = range(65)\n",
        "\n",
        "plt.figure(figsize=(30, 10))\n",
        "\n",
        "plt.subplot(1, 2, 2)\n",
        "plt.plot(epochs_range, loss, label='Training Loss')\n",
        "plt.plot(epochs_range, val_loss, label='Validation Loss')\n",
        "plt.legend(loc='upper right')\n",
        "plt.title('Training and Validation Loss')\n",
        "plt.show()"
      ],
      "execution_count": null,
      "outputs": [
        {
          "output_type": "display_data",
          "data": {
            "image/png": "[encoded data removed]",
            "text/plain": [
              "<Figure size 2160x720 with 2 Axes>"
            ]
          },
          "metadata": {
            "needs_background": "light"
          }
        }
      ]
    },
    {
      "cell_type": "markdown",
      "metadata": {
        "id": "13g7tDjWgtXV"
      },
      "source": [
        "## 5 Predict"
      ]
    },
    {
      "cell_type": "markdown",
      "metadata": {
        "id": "ddO26OT-g_QK"
      },
      "source": [
        "The predict process is similar to the *predict* of the Keras:"
      ]
    },
    {
      "cell_type": "code",
      "metadata": {
        "colab": {
          "base_uri": "https://localhost:8080/",
          "height": 1000
        },
        "id": "a9iHL6tmaL_j",
        "outputId": "e4449c8c-fc69-4b31-95b3-eb4092a96a21"
      },
      "source": [
        "from data import preproc as pp\n",
        "from google.colab.patches import cv2_imshow\n",
        "\n",
        "start_time = datetime.datetime.now()\n",
        "\n",
        "# predict() function will return the predicts with the probabilities\n",
        "predicts, _ = model.predict(x=dtgen.next_test_batch(),\n",
        "                            steps=dtgen.steps['test'],\n",
        "                            ctc_decode=True,\n",
        "                            verbose=1)\n",
        "\n",
        "predicts = [dtgen.tokenizer.decode(x[0]) for x in predicts]\n",
        "ground_truth = [x.decode() for x in dtgen.dataset['test']['gt']]\n",
        "\n",
        "total_time = datetime.datetime.now() - start_time\n",
        "\n",
        "# mount predict corpus file\n",
        "with open(os.path.join(output_path, \"predict.txt\"), \"w\") as lg:\n",
        "    for pd, gt in zip(predicts, ground_truth,):\n",
        "        lg.write(f\"TE_L {gt}\\nTE_P {pd}\\n\")\n",
        "   \n",
        "for i, item in enumerate(dtgen.dataset['test']['dt'][:5]):\n",
        "    print(\"=\" * 1024, \"\\n\")\n",
        "    cv2_imshow(pp.adjust_to_see(item))\n",
        "    print(ground_truth[i])\n",
        "    print(predicts[i], \"\\n\")"
      ],
      "execution_count": null,
      "outputs": [
        {
          "output_type": "stream",
          "name": "stdout",
          "text": [
            "Model Predict\n",
            "10/10 [==============================] - 15s 1s/step\n",
            "CTC Decode\n",
            " 1/10 [==>...........................] - ETA: 6s"
          ]
        },
        {
          "output_type": "stream",
          "name": "stderr",
          "text": [
            "/usr/local/lib/python3.7/dist-packages/numpy/core/_asarray.py:83: VisibleDeprecationWarning: Creating an ndarray from ragged nested sequences (which is a list-or-tuple of lists-or-tuples-or ndarrays with different lengths or shapes) is deprecated. If you meant to do this, you must specify 'dtype=object' when creating the ndarray\n",
            "  return array(a, dtype, copy=False, order=order)\n"
          ]
        },
        {
          "output_type": "stream",
          "name": "stdout",
          "text": [
            "10/10 [==============================] - 7s 733ms/step\n",
            "================================================================================================================================================================================================================================================================================================================================================================================================================================================================================================================================================================================================================================================================================================================================================================================================================================================================================================================================================================================================================================================================ \n",
            "\n"
          ]
        },
        {
          "output_type": "display_data",
          "data": {
            "image/png": "[encoded data removed]",
            "text/plain": [
              "<PIL.Image.Image image mode=L size=1024x128 at 0x7F62D6B8E4D0>"
            ]
          },
          "metadata": {}
        },
        {
          "output_type": "stream",
          "name": "stdout",
          "text": [
            "Metronidazole: 7.5 mg/kg Per os q6hr\n",
            "Metronidazole: 7.5 mg/kg Per os q6hr \n",
            "\n",
            "================================================================================================================================================================================================================================================================================================================================================================================================================================================================================================================================================================================================================================================================================================================================================================================================================================================================================================================================================================================================================================================================ \n",
            "\n"
          ]
        },
        {
          "output_type": "display_data",
          "data": {
            "image/png": "[encoded data removed]",
            "text/plain": [
              "<PIL.Image.Image image mode=L size=1024x128 at 0x7F62D6B8E790>"
            ]
          },
          "metadata": {}
        },
        {
          "output_type": "stream",
          "name": "stdout",
          "text": [
            "Dobutamine: 2.5-15 mcg/kg/min\n",
            "Dobutamine: 2.5-15 mcg/kg/min \n",
            "\n",
            "================================================================================================================================================================================================================================================================================================================================================================================================================================================================================================================================================================================================================================================================================================================================================================================================================================================================================================================================================================================================================================================================ \n",
            "\n"
          ]
        },
        {
          "output_type": "display_data",
          "data": {
            "image/png": "[encoded data removed]",
            "text/plain": [
              "<PIL.Image.Image image mode=L size=1024x128 at 0x7F62D6F24C50>"
            ]
          },
          "metadata": {}
        },
        {
          "output_type": "stream",
          "name": "stdout",
          "text": [
            "Lorazepam: 1 mg Per os 2 times a day\n",
            "Lorazepam: 1 mg Per os 2 times a day \n",
            "\n",
            "================================================================================================================================================================================================================================================================================================================================================================================================================================================================================================================================================================================================================================================================================================================================================================================================================================================================================================================================================================================================================================================================ \n",
            "\n"
          ]
        },
        {
          "output_type": "display_data",
          "data": {
            "image/png": "[encoded data removed]",
            "text/plain": [
              "<PIL.Image.Image image mode=L size=1024x128 at 0x7F62D8855FD0>"
            ]
          },
          "metadata": {}
        },
        {
          "output_type": "stream",
          "name": "stdout",
          "text": [
            "Quinine: 648 mg Per os every 8 hours for 7 days\n",
            "Quinine: 648 mg Per os every 8 hours for 7 days \n",
            "\n",
            "================================================================================================================================================================================================================================================================================================================================================================================================================================================================================================================================================================================================================================================================================================================================================================================================================================================================================================================================================================================================================================================================ \n",
            "\n"
          ]
        },
        {
          "output_type": "display_data",
          "data": {
            "image/png": "[encoded data removed]",
            "text/plain": [
              "<PIL.Image.Image image mode=L size=1024x128 at 0x7F62D55CF850>"
            ]
          },
          "metadata": {}
        },
        {
          "output_type": "stream",
          "name": "stdout",
          "text": [
            "Chlorpromazine: 10-25 mg Per os three times a day\n",
            "Chlorprmazine: 10-25 mg Per os three times a day \n",
            "\n"
          ]
        }
      ]
    },
    {
      "cell_type": "markdown",
      "metadata": {
        "id": "9JcAs3Q3WNJ-"
      },
      "source": [
        "## 6 Evaluate"
      ]
    },
    {
      "cell_type": "markdown",
      "metadata": {
        "id": "8LuZBRepWbom"
      },
      "source": [
        "Evaluation process is more manual process. Here we have the `ocr_metrics`, but feel free to implement other metrics instead. In the function, we have three parameters: \n",
        "\n",
        "* predicts\n",
        "* ground_truth\n",
        "* norm_accentuation (calculation with/without accentuation)\n",
        "* norm_punctuation (calculation with/without punctuation marks)"
      ]
    },
    {
      "cell_type": "code",
      "metadata": {
        "colab": {
          "base_uri": "https://localhost:8080/"
        },
        "id": "0gCwEYdKWOPK",
        "outputId": "554f5905-3bf9-4996-e8bf-13639790bd3b"
      },
      "source": [
        "!pip install pyastronomy\n",
        "from data import evaluation\n",
        "\n",
        "cer, evaluate, acc, labels = evaluation.ocr_metrics(predicts, ground_truth, output_path)\n",
        "\n",
        "e_corpus = \"\\n\".join([\n",
        "    f\"Total test images:    {dtgen.size['test']}\",\n",
        "    f\"Total time:           {total_time}\",\n",
        "    f\"Time per item:        {total_time / dtgen.size['test']}\\n\",\n",
        "    f\"Metrics:\",\n",
        "    f\"Character Error Rate:       {evaluate[0]:.8f}\",\n",
        "    f\"Word Error Rate:            {evaluate[1]:.8f}\",\n",
        "    f\"f1-score:                   {evaluate[2]:.8f}\",\n",
        "    f\"Recall:                     {evaluate[3]:.8f}\",\n",
        "    f\"Precision:                  {evaluate[4]:.8f}\",\n",
        "    f\"F1 score:                   {evaluate[5]:.8f}\",\n",
        "    f\"CER: {cer}\",\n",
        "    f\"azathioprine accuracy:      {acc[0]}\",\n",
        "    f\"ceftriaxone accuracy:       {acc[1]}\",\n",
        "    f\"chlorpromazine accuracy:    {acc[2]}\",\n",
        "    f\"dobutamine accuracy:        {acc[3]}\",\n",
        "    f\"hydroxyzine accuracy:       {acc[4]}\",\n",
        "    f\"lorazepam accuracy:         {acc[5]}\",\n",
        "    f\"metronidazole accuracy:     {acc[6]}\",\n",
        "    f\"prednisolone accuracy:      {acc[7]}\",\n",
        "    f\"quinine accuracy:           {acc[8]}\",\n",
        "    f\"risperidone accuracy:       {acc[9]}\",\n",
        "    f\"rituximab accuracy:         {acc[10]}\",\n",
        "    f\"tramadol accuracy:          {acc[11]}\",\n",
        "    f\"azathioprine recall:      {labels[0][0]}\",\n",
        "    f\"ceftriaxone recall:       {labels[0][1]}\",\n",
        "    f\"chlorpromazine recall:    {labels[0][2]}\",\n",
        "    f\"dobutamine recall:        {labels[0][3]}\",\n",
        "    f\"hydroxyzine recall:       {labels[0][4]}\",\n",
        "    f\"lorazepam recall:         {labels[0][5]}\",\n",
        "    f\"metronidazole recall:     {labels[0][6]}\",\n",
        "    f\"prednisolone recall:      {labels[0][7]}\",\n",
        "    f\"quinine recall:           {labels[0][8]}\",\n",
        "    f\"risperidone recall:       {labels[0][9]}\",\n",
        "    f\"rituximab recall:         {labels[0][10]}\",\n",
        "    f\"tramadol recall:          {labels[0][11]}\",\n",
        "    f\"azathioprine precision:      {labels[1][0]}\",\n",
        "    f\"ceftriaxone precision:       {labels[1][1]}\",\n",
        "    f\"chlorpromazine precision:    {labels[1][2]}\",\n",
        "    f\"dobutamine precision:        {labels[1][3]}\",\n",
        "    f\"hydroxyzine precision:       {labels[1][4]}\",\n",
        "    f\"lorazepam precision:         {labels[1][5]}\",\n",
        "    f\"metronidazole precision:     {labels[1][6]}\",\n",
        "    f\"prednisolone precision:      {labels[1][7]}\",\n",
        "    f\"quinine precision:           {labels[1][8]}\",\n",
        "    f\"risperidone precision:       {labels[1][9]}\",\n",
        "    f\"rituximab precision:         {labels[1][10]}\",\n",
        "    f\"tramadol precision:          {labels[1][11]}\",\n",
        "    f\"azathioprine f1-score:      {labels[2][0]}\",\n",
        "    f\"ceftriaxone f1-score:       {labels[2][1]}\",\n",
        "    f\"chlorpromazine f1-score:    {labels[2][2]}\",\n",
        "    f\"dobutamine f1-score:        {labels[2][3]}\",\n",
        "    f\"hydroxyzine f1-score:       {labels[2][4]}\",\n",
        "    f\"lorazepam f1-score:         {labels[2][5]}\",\n",
        "    f\"metronidazole f1-score:     {labels[2][6]}\",\n",
        "    f\"prednisolone f1-score:      {labels[2][7]}\",\n",
        "    f\"quinine f1-score:           {labels[2][8]}\",\n",
        "    f\"risperidone f1-score:       {labels[2][9]}\",\n",
        "    f\"rituximab f1-score:         {labels[2][10]}\",\n",
        "    f\"tramadol f1-score:          {labels[2][11]}\",\n",
        "    f\"azathioprine CER:      {labels[3][0]}\",\n",
        "    f\"ceftriaxone CER:       {labels[3][1]}\",\n",
        "    f\"chlorpromazine CER:    {labels[3][2]}\",\n",
        "    f\"dobutamine CER:        {labels[3][3]}\",\n",
        "    f\"hydroxyzine CER:       {labels[3][4]}\",\n",
        "    f\"lorazepam CER:         {labels[3][5]}\",\n",
        "    f\"metronidazole CER:     {labels[3][6]}\",\n",
        "    f\"prednisolone CER:      {labels[3][7]}\",\n",
        "    f\"quinine CER:           {labels[3][8]}\",\n",
        "    f\"risperidone CER:       {labels[3][9]}\",\n",
        "    f\"rituximab CER:         {labels[3][10]}\",\n",
        "    f\"tramadol CER:          {labels[3][11]}\",\n",
        "    f\"azathioprine WER:      {labels[4][0]}\",\n",
        "    f\"ceftriaxone WER:       {labels[4][1]}\",\n",
        "    f\"chlorpromazine WER:    {labels[4][2]}\",\n",
        "    f\"dobutamine WER:        {labels[4][3]}\",\n",
        "    f\"hydroxyzine WER:       {labels[4][4]}\",\n",
        "    f\"lorazepam WER:         {labels[4][5]}\",\n",
        "    f\"metronidazole WER:     {labels[4][6]}\",\n",
        "    f\"prednisolone WER:      {labels[4][7]}\",\n",
        "    f\"quinine WER:           {labels[4][8]}\",\n",
        "    f\"risperidone WER:       {labels[4][9]}\",\n",
        "    f\"rituximab WER:         {labels[4][10]}\",\n",
        "    f\"tramadol WER:          {labels[4][11]}\",\n",
        "])\n",
        "with open(os.path.join(output_path, \"evaluate.txt\"), \"w\") as lg:\n",
        "    lg.write(e_corpus)\n",
        "    print(e_corpus)\n"
      ],
      "execution_count": null,
      "outputs": [
        {
          "output_type": "stream",
          "name": "stdout",
          "text": [
            "Collecting pyastronomy\n",
            "  Downloading PyAstronomy-0.17.0.tar.gz (727 kB)\n",
            "\u001b[K     |████████████████████████████████| 727 kB 8.2 MB/s \n",
            "\u001b[?25hRequirement already satisfied: numpy in /usr/local/lib/python3.7/dist-packages (from pyastronomy) (1.19.5)\n",
            "Requirement already satisfied: six in /usr/local/lib/python3.7/dist-packages (from pyastronomy) (1.15.0)\n",
            "Requirement already satisfied: scipy in /usr/local/lib/python3.7/dist-packages (from pyastronomy) (1.4.1)\n",
            "Collecting quantities\n",
            "  Downloading quantities-0.12.5.tar.gz (85 kB)\n",
            "\u001b[K     |████████████████████████████████| 85 kB 5.1 MB/s \n",
            "\u001b[?25hCollecting bidict\n",
            "  Downloading bidict-0.21.4-py3-none-any.whl (36 kB)\n",
            "Building wheels for collected packages: pyastronomy, quantities\n",
            "  Building wheel for pyastronomy (setup.py) ... \u001b[?25l\u001b[?25hdone\n",
            "  Created wheel for pyastronomy: filename=PyAstronomy-0.17.0-py3-none-any.whl size=522050 sha256=737e7313ec77c0c7b3ffd8b3075ed705a81b986e196a023f252172e6fc96649f\n",
            "  Stored in directory: /root/.cache/pip/wheels/10/f4/cc/fe117c538c81443a6ba0e852ee8d69866a08e5163d2050aae5\n",
            "  Building wheel for quantities (setup.py) ... \u001b[?25l\u001b[?25hdone\n",
            "  Created wheel for quantities: filename=quantities-0.12.5-py3-none-any.whl size=80135 sha256=a4ef256e2dea67267b8a6bfad1b7eb7645c35bd5a78c36d7b55066b4a8e160df\n",
            "  Stored in directory: /root/.cache/pip/wheels/67/e7/32/0bb6d5bd0f619e583b6f1f4c710b535df898a1083e1e5d066c\n",
            "Successfully built pyastronomy quantities\n",
            "Installing collected packages: quantities, bidict, pyastronomy\n",
            "Successfully installed bidict-0.21.4 pyastronomy-0.17.0 quantities-0.12.5\n",
            "Total test images:    148\n",
            "Total time:           0:00:29.457390\n",
            "Time per item:        0:00:00.199036\n",
            "\n",
            "Metrics:\n",
            "Character Error Rate:       0.05433013\n",
            "Word Error Rate:            0.09772045\n",
            "f1-score:                   72.29729730\n",
            "Recall:                     89.97050147\n",
            "Precision:                  90.05905512\n",
            "F1 score:                   90.01475652\n",
            "CER: [0.0, 0.0, 0.0, 0.0, 0.02040816326530612, 0.0, 0.6122448979591837, 0.0, 0.0, 0.12244897959183673, 0.0, 0.0, 0.0, 0.0, 0.0, 0.0, 0.0, 0.0, 0.0, 0.06060606060606061, 0.061224489795918366, 0.0, 0.030303030303030304, 0.2777777777777778, 0.0, 0.0, 0.06060606060606061, 0.0, 0.0, 0.0, 0.0, 0.02040816326530612, 0.0, 0.0, 0.0, 0.0, 0.03571428571428571, 0.3793103448275862, 0.0, 0.041666666666666664, 0.0, 0.7291666666666666, 0.0, 0.020833333333333332, 0.0, 0.034482758620689655, 0.0, 0.0, 0.0, 0.38235294117647056, 0.0, 0.35294117647058826, 0.0, 0.0, 0.0, 0.0, 0.0, 0.0, 0.0, 0.06060606060606061, 0.0, 0.56, 0.02040816326530612, 0.02857142857142857, 0.20408163265306123, 0.0, 0.0, 0.0, 0.0, 0.0, 0.0, 0.0, 0.0, 0.0, 0.0, 0.0, 0.0, 0.0, 0.0, 0.0, 0.0, 0.020833333333333332, 0.0, 0.0, 0.0, 0.0, 0.0, 0.0, 0.0, 0.0, 0.7142857142857143, 0.02040816326530612, 0.0, 0.0, 0.0, 0.0, 0.08, 0.0, 0.1111111111111111, 0.1875, 0.0, 0.0, 0.0, 0.0, 0.0, 0.020833333333333332, 0.0, 0.06060606060606061, 0.0, 0.0, 0.0, 0.0, 0.0, 0.5454545454545454, 0.0, 0.0, 0.0, 0.0, 0.775, 0.0, 0.0, 0.02040816326530612, 0.0, 0.04081632653061224, 0.0, 0.027777777777777776, 0.0, 0.0, 0.0, 0.0, 0.5277777777777778, 0.0, 0.0, 0.0, 0.1111111111111111, 0.0, 0.0, 0.0, 0.0, 0.02040816326530612, 0.0, 0.0, 0.30303030303030304, 0.0, 0.23529411764705882, 0.0, 0.0, 0.10204081632653061]\n",
            "azathioprine accuracy:      8\n",
            "ceftriaxone accuracy:       11\n",
            "chlorpromazine accuracy:    0\n",
            "dobutamine accuracy:        11\n",
            "hydroxyzine accuracy:       9\n",
            "lorazepam accuracy:         9\n",
            "metronidazole accuracy:     11\n",
            "prednisolone accuracy:      7\n",
            "quinine accuracy:           13\n",
            "risperidone accuracy:       11\n",
            "rituximab accuracy:         10\n",
            "tramadol accuracy:          7\n",
            "azathioprine recall:      79.72972972972973\n",
            "ceftriaxone recall:       98.33333333333333\n",
            "chlorpromazine recall:    79.24528301886792\n",
            "dobutamine recall:        89.1891891891892\n",
            "hydroxyzine recall:       83.33333333333334\n",
            "lorazepam recall:         91.42857142857143\n",
            "metronidazole recall:     97.43589743589743\n",
            "prednisolone recall:      93.05555555555556\n",
            "quinine recall:           100.0\n",
            "risperidone recall:       96.92307692307692\n",
            "rituximab recall:         89.04109589041096\n",
            "tramadol recall:          83.33333333333334\n",
            "azathioprine precision:      81.94444444444444\n",
            "ceftriaxone precision:       98.33333333333333\n",
            "chlorpromazine precision:    77.77777777777779\n",
            "dobutamine precision:        91.66666666666666\n",
            "hydroxyzine precision:       83.33333333333334\n",
            "lorazepam precision:         88.88888888888889\n",
            "metronidazole precision:     97.43589743589743\n",
            "prednisolone precision:      93.05555555555556\n",
            "quinine precision:           100.0\n",
            "risperidone precision:       96.92307692307692\n",
            "rituximab precision:         90.27777777777779\n",
            "tramadol precision:          84.61538461538461\n",
            "azathioprine f1-score:      80.82191780821917\n",
            "ceftriaxone f1-score:       98.33333333333333\n",
            "chlorpromazine f1-score:    78.50467289719626\n",
            "dobutamine f1-score:        90.41095890410958\n",
            "hydroxyzine f1-score:       83.33333333333334\n",
            "lorazepam f1-score:         90.14084507042254\n",
            "metronidazole f1-score:     97.43589743589743\n",
            "prednisolone f1-score:      93.05555555555556\n",
            "quinine f1-score:           100.0\n",
            "risperidone f1-score:       96.92307692307692\n",
            "rituximab f1-score:         89.65517241379311\n",
            "tramadol f1-score:          83.96946564885496\n",
            "azathioprine CER:      0.15111036838978015\n",
            "ceftriaxone CER:       0.006666666666666667\n",
            "chlorpromazine CER:    0.1054421768707483\n",
            "dobutamine CER:        0.03160919540229885\n",
            "hydroxyzine CER:       0.08068738859180036\n",
            "lorazepam CER:         0.06944444444444445\n",
            "metronidazole CER:     0.017094017094017092\n",
            "prednisolone CER:      0.022727272727272724\n",
            "quinine CER:           0.0\n",
            "risperidone CER:       0.005399772641151952\n",
            "rituximab CER:         0.06190476190476191\n",
            "tramadol CER:          0.10717948717948717\n",
            "azathioprine WER:      0.1898148148148148\n",
            "ceftriaxone WER:       0.016666666666666666\n",
            "chlorpromazine WER:    0.2222222222222223\n",
            "dobutamine WER:        0.08333333333333333\n",
            "hydroxyzine WER:       0.16666666666666666\n",
            "lorazepam WER:         0.1111111111111111\n",
            "metronidazole WER:     0.02564102564102564\n",
            "prednisolone WER:      0.06944444444444443\n",
            "quinine WER:           0.0\n",
            "risperidone WER:       0.03076923076923077\n",
            "rituximab WER:         0.09722222222222222\n",
            "tramadol WER:          0.17319347319347322\n"
          ]
        }
      ]
    }
  ]
}