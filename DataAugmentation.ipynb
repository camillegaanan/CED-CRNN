{
 "cells": [
  {
   "cell_type": "code",
   "execution_count": 10,
   "source": [
    "#ONE PICTURE AT A TIME\r\n",
    "# Importing necessary functions\r\n",
    "from keras.preprocessing.image import ImageDataGenerator, array_to_img, img_to_array, load_img\r\n",
    "import os\r\n",
    "\r\n",
    "def augment_images(image_path, medicine):\r\n",
    "\t\t# Loading a sample image\r\n",
    "\t\timg = load_img(image_path)\r\n",
    "\t\t# Converting the input sample image to an array\r\n",
    "\t\tx = img_to_array(img)\r\n",
    "\t\t# Reshaping the input image\r\n",
    "\t\tx = x.reshape((1, ) + x.shape)\r\n",
    "\r\n",
    "\t\t# Generating and saving 5 augmented samples\r\n",
    "\t\t# using the above defined parameters.\r\n",
    "\t\ti = 0\r\n",
    "\t\tfor batch in datagen.flow(x, batch_size = 16,\r\n",
    "\t\t\t\t\t\t\t\tsave_to_dir ='C:/Users/Camille/Downloads/NEW PATH',\r\n",
    "\t\t\t\t\t\t\t\tsave_prefix =medicine, save_format ='jpg'):\r\n",
    "\t\t\ti += 1\r\n",
    "\t\t\tif i > 5:\r\n",
    "\t\t\t\tbreak\r\n",
    "\r\n",
    "# Initialising the ImageDataGenerator class.\r\n",
    "# We will pass in the augmentation parameters in the constructor.\r\n",
    "datagen = ImageDataGenerator(\r\n",
    "\t\trotation_range = 5,\r\n",
    "\t\tshear_range = 1,\r\n",
    "\t\tzoom_range = 0.2,\r\n",
    "\t\trescale=1)\r\n",
    "\r\n",
    "input_path = 'C:/Users/Camille/Downloads/CROPPED LABELED RESIZED PRES PICS/'\r\n",
    "for filename in os.listdir(input_path):\r\n",
    "\tif filename.endswith(\".jpg\"):\r\n",
    "\t\tif filename.find(\"Azathioprine\") != -1:\r\n",
    "\t\t\timage_path = os.path.join(input_path, filename)\r\n",
    "\t\t\tmedicine = \"Azathioprine\"\r\n",
    "\t\t\taugment_images(image_path, medicine)\r\n",
    "\t\telif filename.find(\"Ceftriaxone\") != -1:\r\n",
    "\t\t\timage_path = os.path.join(input_path, filename)\r\n",
    "\t\t\tmedicine = \"Ceftriaxone\"\r\n",
    "\t\t\taugment_images(image_path, medicine)\r\n",
    "\t\telif filename.find(\"Chlorpromazine\") != -1:\r\n",
    "\t\t\timage_path = os.path.join(input_path, filename)\r\n",
    "\t\t\tmedicine = \"Chlorpromazine\"\r\n",
    "\t\t\taugment_images(image_path, medicine)\r\n",
    "\t\telif filename.find(\"Dobutamine\") != -1:\r\n",
    "\t\t\timage_path = os.path.join(input_path, filename)\r\n",
    "\t\t\tmedicine = \"Dobutamine\"\r\n",
    "\t\t\taugment_images(image_path, medicine)\r\n",
    "\t\telif filename.find(\"Hydroxyzine\") != -1:\r\n",
    "\t\t\timage_path = os.path.join(input_path, filename)\r\n",
    "\t\t\tmedicine = \"Hydroxyzine\"\r\n",
    "\t\t\taugment_images(image_path, medicine)\r\n",
    "\t\telif filename.find(\"Lorazepam\") != -1:\r\n",
    "\t\t\timage_path = os.path.join(input_path, filename)\r\n",
    "\t\t\tmedicine = \"Lorazepam\"\r\n",
    "\t\t\taugment_images(image_path, medicine)\r\n",
    "\t\telif filename.find(\"Metronidazole\") != -1:\r\n",
    "\t\t\timage_path = os.path.join(input_path, filename)\r\n",
    "\t\t\tmedicine = \"Metronidazole\"\r\n",
    "\t\t\taugment_images(image_path, medicine)\r\n",
    "\t\telif filename.find(\"Prednisolone\") != -1:\r\n",
    "\t\t\timage_path = os.path.join(input_path, filename)\r\n",
    "\t\t\tmedicine = \"Prednisolone\"\r\n",
    "\t\t\taugment_images(image_path, medicine)\r\n",
    "\t\telif filename.find(\"Quinine\") != -1:\r\n",
    "\t\t\timage_path = os.path.join(input_path, filename)\r\n",
    "\t\t\tmedicine = \"Quinine\"\r\n",
    "\t\t\taugment_images(image_path, medicine)\r\n",
    "\t\telif filename.find(\"Risperidone\") != -1:\r\n",
    "\t\t\timage_path = os.path.join(input_path, filename)\r\n",
    "\t\t\tmedicine = \"Risperidone\"\r\n",
    "\t\t\taugment_images(image_path, medicine)\r\n",
    "\t\telif filename.find(\"Rituximab\") != -1:\r\n",
    "\t\t\timage_path = os.path.join(input_path, filename)\r\n",
    "\t\t\tmedicine = \"Rituximab\"\r\n",
    "\t\t\taugment_images(image_path, medicine)\r\n",
    "\t\telse:\r\n",
    "\t\t\timage_path = os.path.join(input_path, filename)\r\n",
    "\t\t\tmedicine = \"Tramadol\"\r\n",
    "\t\t\taugment_images(image_path, medicine)\r\n",
    "\t\t\r\n",
    "\r\n"
   ],
   "outputs": [
    {
     "output_type": "error",
     "ename": "NameError",
     "evalue": "name 'augment_images' is not defined",
     "traceback": [
      "\u001b[1;31m---------------------------------------------------------------------------\u001b[0m",
      "\u001b[1;31mNameError\u001b[0m                                 Traceback (most recent call last)",
      "\u001b[1;32m~\\AppData\\Local\\Temp/ipykernel_29048/1742864939.py\u001b[0m in \u001b[0;36m<module>\u001b[1;34m\u001b[0m\n\u001b[0;32m     16\u001b[0m         \u001b[1;32mif\u001b[0m \u001b[0mfilename\u001b[0m\u001b[1;33m.\u001b[0m\u001b[0mendswith\u001b[0m\u001b[1;33m(\u001b[0m\u001b[1;34m\".jpg\"\u001b[0m\u001b[1;33m)\u001b[0m \u001b[1;32mand\u001b[0m \u001b[0mfilename\u001b[0m\u001b[1;33m.\u001b[0m\u001b[0mfind\u001b[0m\u001b[1;33m(\u001b[0m\u001b[1;34m\"Azathioprine\"\u001b[0m\u001b[1;33m)\u001b[0m \u001b[1;33m!=\u001b[0m \u001b[1;33m-\u001b[0m\u001b[1;36m1\u001b[0m\u001b[1;33m:\u001b[0m\u001b[1;33m\u001b[0m\u001b[1;33m\u001b[0m\u001b[0m\n\u001b[0;32m     17\u001b[0m                 \u001b[0mimage_path\u001b[0m \u001b[1;33m=\u001b[0m \u001b[0mos\u001b[0m\u001b[1;33m.\u001b[0m\u001b[0mpath\u001b[0m\u001b[1;33m.\u001b[0m\u001b[0mjoin\u001b[0m\u001b[1;33m(\u001b[0m\u001b[0minput_path\u001b[0m\u001b[1;33m,\u001b[0m \u001b[0mfilename\u001b[0m\u001b[1;33m)\u001b[0m\u001b[1;33m\u001b[0m\u001b[1;33m\u001b[0m\u001b[0m\n\u001b[1;32m---> 18\u001b[1;33m                 \u001b[0maugment_images\u001b[0m\u001b[1;33m(\u001b[0m\u001b[0mimage_path\u001b[0m\u001b[1;33m)\u001b[0m\u001b[1;33m\u001b[0m\u001b[1;33m\u001b[0m\u001b[0m\n\u001b[0m\u001b[0;32m     19\u001b[0m \u001b[1;33m\u001b[0m\u001b[0m\n\u001b[0;32m     20\u001b[0m \u001b[1;32mdef\u001b[0m \u001b[0maugment_images\u001b[0m\u001b[1;33m(\u001b[0m\u001b[0mimage_path\u001b[0m\u001b[1;33m)\u001b[0m\u001b[1;33m:\u001b[0m\u001b[1;33m\u001b[0m\u001b[1;33m\u001b[0m\u001b[0m\n",
      "\u001b[1;31mNameError\u001b[0m: name 'augment_images' is not defined"
     ]
    }
   ],
   "metadata": {}
  },
  {
   "cell_type": "code",
   "execution_count": null,
   "source": [],
   "outputs": [],
   "metadata": {}
  }
 ],
 "metadata": {
  "kernelspec": {
   "name": "python3",
   "display_name": "Python 3.9.4 64-bit"
  },
  "language_info": {
   "codemirror_mode": {
    "name": "ipython",
    "version": 3
   },
   "file_extension": ".py",
   "mimetype": "text/x-python",
   "name": "python",
   "nbconvert_exporter": "python",
   "pygments_lexer": "ipython3",
   "version": "3.9.4"
  },
  "interpreter": {
   "hash": "63fd5069d213b44bf678585dea6b12cceca9941eaf7f819626cde1f2670de90d"
  }
 },
 "nbformat": 4,
 "nbformat_minor": 4
}