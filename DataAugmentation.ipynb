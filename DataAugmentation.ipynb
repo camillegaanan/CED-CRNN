{
 "cells": [
  {
   "cell_type": "code",
   "execution_count": 1,
   "source": [
    "from keras.preprocessing.image import ImageDataGenerator, img_to_array, load_img\r\n",
    "import matplotlib.pyplot as plt\r\n",
    "import numpy as np"
   ],
   "outputs": [],
   "metadata": {}
  },
  {
   "cell_type": "code",
   "execution_count": 45,
   "source": [
    "#DATA AUGMENTATION \r\n",
    "def augment_images(image_path, filename):\r\n",
    "\t\timg = load_img(image_path)\r\n",
    "\t\tx = img_to_array(img)\r\n",
    "\t\tx = x.reshape((1, ) + x.shape)\r\n",
    "\r\n",
    "\t\ti = 0\r\n",
    "\t\tfor batch in datagen.flow(x, batch_size = 16, shuffle=True, seed=1,\r\n",
    "\t\t\t\t\t\t\t\tsave_to_dir ='C:/Users/Camille/Downloads/NEW PATH', #Camille\r\n",
    "\t\t\t\t\t\t\t\t# save_to_dir ='D:/Program Files/NEW CROPPED LABELED RESIZED PRES PICS', #Ash\r\n",
    "\t\t\t\t\t\t\t\tsave_prefix =filename+'_'+str(i), save_format ='png'):\r\n",
    "\t\t\ti += 1\r\n",
    "\t\t\tif i > 5:\r\n",
    "\t\t\t\tbreak\r\n",
    "\r\n",
    "datagen = ImageDataGenerator(\t\t\t\t\t\r\n",
    "\t\twidth_shift_range= 25,\r\n",
    "\t\theight_shift_range= 10,\r\n",
    "\t\trotation_range = 5,\r\n",
    "\t\tshear_range = 1,\r\n",
    "\t\tzoom_range = 0.2)\r\n",
    "\r\n",
    "# clean pics\r\n",
    "input_path = 'C:/Users/Camille/Downloads/edited white' #Camille\r\n",
    "# input_path = 'D:\\Program Files\\CROPPED LABELED RESIZED PRES PICS' #Ash\r\n",
    "for filename in os.listdir(input_path):\r\n",
    "\timage_path = os.path.join(input_path, filename)\r\n",
    "\taugment_images(image_path, filename[:-4])\r\n",
    "\r\n",
    "# dirty pics\r\n",
    "input_path2 = 'C:/Users/Camille/Downloads/dirty pics' #Camille\r\n",
    "for filename in os.listdir(input_path2):\r\n",
    "\tif filename.endswith('.png'):\r\n",
    "\t\timage_path = os.path.join(input_path2, filename)\r\n",
    "\t\tprint(image_path)\r\n",
    "\t\taugment_images(image_path, filename[:-4])"
   ],
   "outputs": [],
   "metadata": {}
  },
  {
   "cell_type": "code",
   "execution_count": 46,
   "source": [
    "# # Creating Train / Val / Test folders (One time use)\r\n",
    "import os\r\n",
    "import numpy as np\r\n",
    "import shutil\r\n",
    "import random\r\n",
    "root_dir = 'C:/Users/Camille/Downloads/splitted data/' #Camille\r\n",
    "# root_dir = 'D:/Program Files/SPLIT NEW CROPPED LABELED RESIZED PRES PICS/' #Ash\r\n",
    "\r\n",
    "val_ratio = 0.15 #10\r\n",
    "test_ratio = 0.15 #20 or #30!!\r\n",
    "\r\n",
    "os.makedirs(root_dir +'train/')\r\n",
    "os.makedirs(root_dir +'test/')\r\n",
    "os.makedirs(root_dir +'val/')\r\n",
    "\r\n",
    "# Creating partitions of the data after shuffeling\r\n",
    "src = 'C:/Users/Camille/Downloads/NEW PATH' # Folder to copy images from --Camille\r\n",
    "# src = 'D:/Program Files/NEW CROPPED LABELED RESIZED PRES PICS' #Ash\r\n",
    "\r\n",
    "allFileNames = os.listdir(src)\r\n",
    "random.seed(1)\r\n",
    "np.random.shuffle(allFileNames)\r\n",
    "train_FileNames, val_FileNames, test_FileNames = np.split(np.array(allFileNames),\r\n",
    "                                                          [int(len(allFileNames)* (1 - (val_ratio + test_ratio))), \r\n",
    "                                                           int(len(allFileNames)* (1 - test_ratio))])\r\n",
    "\r\n",
    "\r\n",
    "train_FileNames = [src+'/'+ name for name in train_FileNames.tolist()]\r\n",
    "val_FileNames = [src+'/' + name for name in val_FileNames.tolist()]\r\n",
    "test_FileNames = [src+'/' + name for name in test_FileNames.tolist()]\r\n",
    "\r\n",
    "print('Total images: ', len(allFileNames))\r\n",
    "print('Training: ', len(train_FileNames))\r\n",
    "print('Validation: ', len(val_FileNames))\r\n",
    "print('Testing: ', len(test_FileNames))\r\n",
    "\r\n",
    "# Copy-pasting images\r\n",
    "for name in train_FileNames:\r\n",
    "    shutil.copy(name, root_dir +'train/' )\r\n",
    "for name in test_FileNames:\r\n",
    "    shutil.copy(name, root_dir +'test/' )\r\n",
    "for name in val_FileNames:\r\n",
    "    shutil.copy(name, root_dir +'val/' )"
   ],
   "outputs": [
    {
     "output_type": "stream",
     "name": "stdout",
     "text": [
      "Total images:  2946\n",
      "Training:  2062\n",
      "Validation:  442\n",
      "Testing:  442\n"
     ]
    }
   ],
   "metadata": {}
  }
 ],
 "metadata": {
  "kernelspec": {
   "name": "python3",
   "display_name": "Python 3.8.3 64-bit ('base': conda)"
  },
  "language_info": {
   "codemirror_mode": {
    "name": "ipython",
    "version": 3
   },
   "file_extension": ".py",
   "mimetype": "text/x-python",
   "name": "python",
   "nbconvert_exporter": "python",
   "pygments_lexer": "ipython3",
   "version": "3.8.3"
  },
  "interpreter": {
   "hash": "6c0057e970611b3440242629919342879023e6b08fd2b04f89b50c3ebc2a3cfa"
  }
 },
 "nbformat": 4,
 "nbformat_minor": 4
}