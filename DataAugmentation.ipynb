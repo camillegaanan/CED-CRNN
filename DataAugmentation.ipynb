{
 "cells": [
  {
   "cell_type": "code",
   "execution_count": 2,
   "source": [
    "#ONE PICTURE AT A TIME\r\n",
    "# Importing necessary functions\r\n",
    "from keras.preprocessing.image import ImageDataGenerator, array_to_img, img_to_array, load_img\r\n",
    "import os\r\n",
    "\r\n",
    "# Initialising the ImageDataGenerator class.\r\n",
    "# We will pass in the augmentation parameters in the constructor.\r\n",
    "datagen = ImageDataGenerator(\r\n",
    "\t\trotation_range = 5,\r\n",
    "\t\tshear_range = 1,\r\n",
    "\t\tzoom_range = 0.2,\r\n",
    "\t\trescale=1)\r\n",
    "\r\n",
    "input_path = 'C:/Users/Camille/Downloads/CROPPED LABELED RESIZED PRES PICS/'\r\n",
    "for filename in os.listdir(input_path):\r\n",
    "\tif filename.endswith(\".jpg\"):\r\n",
    "\t\timage_path = os.path.join(input_path, filename)\r\n",
    "\t\t# Loading a sample image\r\n",
    "\t\timg = load_img(image_path)\r\n",
    "\t\t# Converting the input sample image to an array\r\n",
    "\t\tx = img_to_array(img)\r\n",
    "\t\t# Reshaping the input image\r\n",
    "\t\tx = x.reshape((1, ) + x.shape)\r\n",
    "\r\n",
    "\t\t# Generating and saving 5 augmented samples\r\n",
    "\t\t# using the above defined parameters.\r\n",
    "\t\ti = 0\r\n",
    "\t\tfor batch in datagen.flow(x, batch_size = 16,\r\n",
    "\t\t\t\t\t\t\t\tsave_to_dir ='C:/Users/Camille/Downloads/NEW PATH',\r\n",
    "\t\t\t\t\t\t\t\tsave_prefix ='augmented_images', save_format ='jpg'):\r\n",
    "\t\t\ti += 1\r\n",
    "\t\t\tif i > 5:\r\n",
    "\t\t\t\tbreak"
   ],
   "outputs": [],
   "metadata": {}
  },
  {
   "cell_type": "code",
   "execution_count": null,
   "source": [],
   "outputs": [],
   "metadata": {}
  }
 ],
 "metadata": {
  "kernelspec": {
   "name": "python3",
   "display_name": "Python 3.9.4 64-bit"
  },
  "language_info": {
   "codemirror_mode": {
    "name": "ipython",
    "version": 3
   },
   "file_extension": ".py",
   "mimetype": "text/x-python",
   "name": "python",
   "nbconvert_exporter": "python",
   "pygments_lexer": "ipython3",
   "version": "3.9.4"
  },
  "interpreter": {
   "hash": "63fd5069d213b44bf678585dea6b12cceca9941eaf7f819626cde1f2670de90d"
  }
 },
 "nbformat": 4,
 "nbformat_minor": 4
}