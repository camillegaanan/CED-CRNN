{
 "cells": [
  {
   "cell_type": "code",
   "execution_count": 28,
   "source": [
    "#DATA AUGMENTATION\r\n",
    "\r\n",
    "# Importing necessary functions\r\n",
    "from keras.preprocessing.image import ImageDataGenerator, array_to_img, img_to_array, load_img\r\n",
    "import os\r\n",
    "\r\n",
    "def augment_images(image_path, medicine):\r\n",
    "\t\t# Loading a sample image\r\n",
    "\t\timg = load_img(image_path)\r\n",
    "\t\t# Converting the input sample image to an array\r\n",
    "\t\tx = img_to_array(img)\r\n",
    "\t\t# Reshaping the input image\r\n",
    "\t\tx = x.reshape((1, ) + x.shape)\r\n",
    "\r\n",
    "\t\t# Generating and saving 5 augmented samples\r\n",
    "\t\t# using the above defined parameters.\r\n",
    "\t\ti = 0\r\n",
    "\t\tfor batch in datagen.flow(x, batch_size = 16,\r\n",
    "\t\t\t\t\t\t\t\tsave_to_dir ='C:/Users/Camille/Downloads/NEW PATH', #Camille\r\n",
    "\t\t\t\t\t\t\t\tsave_prefix =medicine, save_format ='jpg'):\r\n",
    "\t\t\ti += 1\r\n",
    "\t\t\tif i > 5:\r\n",
    "\t\t\t\tbreak\r\n",
    "\r\n",
    "# Initialising the ImageDataGenerator class.\r\n",
    "# We will pass in the augmentation parameters in the constructor.\r\n",
    "datagen = ImageDataGenerator(\r\n",
    "\t\trotation_range = 5,\r\n",
    "\t\tshear_range = 1,\r\n",
    "\t\tzoom_range = 0.2,\r\n",
    "\t\trescale=1)\r\n",
    "\r\n",
    "input_path = 'C:/Users/Camille/Downloads/CROPPED LABELED RESIZED PRES PICS' #Camille\r\n",
    "for filename in os.listdir(input_path):\r\n",
    "\tif filename.endswith(\".jpg\"):\r\n",
    "\t\tif filename.find(\"Azathioprine\") != -1:\r\n",
    "\t\t\timage_path = os.path.join(input_path, filename)\r\n",
    "\t\t\tmedicine = \"Azathioprine\"\r\n",
    "\t\t\taugment_images(image_path, medicine)\r\n",
    "\t\telif filename.find(\"Ceftriaxone\") != -1:\r\n",
    "\t\t\timage_path = os.path.join(input_path, filename)\r\n",
    "\t\t\tmedicine = \"Ceftriaxone\"\r\n",
    "\t\t\taugment_images(image_path, medicine)\r\n",
    "\t\telif filename.find(\"Chlorpromazine\") != -1:\r\n",
    "\t\t\timage_path = os.path.join(input_path, filename)\r\n",
    "\t\t\tmedicine = \"Chlorpromazine\"\r\n",
    "\t\t\taugment_images(image_path, medicine)\r\n",
    "\t\telif filename.find(\"Dobutamine\") != -1:\r\n",
    "\t\t\timage_path = os.path.join(input_path, filename)\r\n",
    "\t\t\tmedicine = \"Dobutamine\"\r\n",
    "\t\t\taugment_images(image_path, medicine)\r\n",
    "\t\telif filename.find(\"Hydroxyzine\") != -1:\r\n",
    "\t\t\timage_path = os.path.join(input_path, filename)\r\n",
    "\t\t\tmedicine = \"Hydroxyzine\"\r\n",
    "\t\t\taugment_images(image_path, medicine)\r\n",
    "\t\telif filename.find(\"Lorazepam\") != -1:\r\n",
    "\t\t\timage_path = os.path.join(input_path, filename)\r\n",
    "\t\t\tmedicine = \"Lorazepam\"\r\n",
    "\t\t\taugment_images(image_path, medicine)\r\n",
    "\t\telif filename.find(\"Metronidazole\") != -1:\r\n",
    "\t\t\timage_path = os.path.join(input_path, filename)\r\n",
    "\t\t\tmedicine = \"Metronidazole\"\r\n",
    "\t\t\taugment_images(image_path, medicine)\r\n",
    "\t\telif filename.find(\"Prednisolone\") != -1:\r\n",
    "\t\t\timage_path = os.path.join(input_path, filename)\r\n",
    "\t\t\tmedicine = \"Prednisolone\"\r\n",
    "\t\t\taugment_images(image_path, medicine)\r\n",
    "\t\telif filename.find(\"Quinine\") != -1:\r\n",
    "\t\t\timage_path = os.path.join(input_path, filename)\r\n",
    "\t\t\tmedicine = \"Quinine\"\r\n",
    "\t\t\taugment_images(image_path, medicine)\r\n",
    "\t\telif filename.find(\"Risperidone\") != -1:\r\n",
    "\t\t\timage_path = os.path.join(input_path, filename)\r\n",
    "\t\t\tmedicine = \"Risperidone\"\r\n",
    "\t\t\taugment_images(image_path, medicine)\r\n",
    "\t\telif filename.find(\"Rituximab\") != -1:\r\n",
    "\t\t\timage_path = os.path.join(input_path, filename)\r\n",
    "\t\t\tmedicine = \"Rituximab\"\r\n",
    "\t\t\taugment_images(image_path, medicine)\r\n",
    "\t\telse:\r\n",
    "\t\t\timage_path = os.path.join(input_path, filename)\r\n",
    "\t\t\tmedicine = \"Tramadol\"\r\n",
    "\t\t\taugment_images(image_path, medicine)"
   ],
   "outputs": [],
   "metadata": {}
  },
  {
   "cell_type": "code",
   "execution_count": 29,
   "source": [
    "# # Creating Train / Val / Test folders (One time use)\r\n",
    "import os\r\n",
    "import numpy as np\r\n",
    "import shutil\r\n",
    "import random\r\n",
    "root_dir = 'C:/Users/Camille/Downloads/splitted data/' #Camille\r\n",
    "\r\n",
    "val_ratio = 0\r\n",
    "test_ratio = 0.3\r\n",
    "\r\n",
    "os.makedirs(root_dir +'train/')\r\n",
    "os.makedirs(root_dir +'test/')\r\n",
    "\r\n",
    "# Creating partitions of the data after shuffeling\r\n",
    "src = 'C:/Users/Camille/Downloads/NEW PATH' # Folder to copy images from --Camille\r\n",
    "\r\n",
    "allFileNames = os.listdir(src)\r\n",
    "np.random.shuffle(allFileNames)\r\n",
    "train_FileNames, val_FileNames, test_FileNames = np.split(np.array(allFileNames),\r\n",
    "                                                          [int(len(allFileNames)* (1 - (val_ratio + test_ratio))), \r\n",
    "                                                           int(len(allFileNames)* (1 - test_ratio))])\r\n",
    "\r\n",
    "\r\n",
    "train_FileNames = [src+'/'+ name for name in train_FileNames.tolist()]\r\n",
    "test_FileNames = [src+'/' + name for name in test_FileNames.tolist()]\r\n",
    "\r\n",
    "print('Total images: ', len(allFileNames))\r\n",
    "print('Training: ', len(train_FileNames))\r\n",
    "#print('Validation: ', len(val_FileNames))\r\n",
    "print('Testing: ', len(test_FileNames))\r\n",
    "\r\n",
    "# Copy-pasting images\r\n",
    "for name in train_FileNames:\r\n",
    "    shutil.copy(name, root_dir +'train/' )\r\n",
    "\r\n",
    "#for name in val_FileNames:\r\n",
    " #   shutil.copy(name, root_dir +'val/' + cls)\r\n",
    "\r\n",
    "for name in test_FileNames:\r\n",
    "    shutil.copy(name, root_dir +'test/' )"
   ],
   "outputs": [
    {
     "output_type": "stream",
     "name": "stdout",
     "text": [
      "Total images:  1575\n",
      "Training:  1102\n",
      "Testing:  473\n"
     ]
    }
   ],
   "metadata": {}
  },
  {
   "cell_type": "code",
   "execution_count": 6,
   "source": [
    "#RGB TO GREYSCALE CAMILLE\r\n",
    "import cv2\r\n",
    "\r\n",
    "def greyscale(image):\r\n",
    "    grey = cv2.cvtColor(image, cv2.COLOR_BGR2GRAY)\r\n",
    "    return grey"
   ],
   "outputs": [],
   "metadata": {}
  },
  {
   "cell_type": "code",
   "execution_count": null,
   "source": [
    "#BINARIZATION TRIX"
   ],
   "outputs": [],
   "metadata": {}
  },
  {
   "cell_type": "code",
   "execution_count": null,
   "source": [
    "#NOISE REMOVAL ASH"
   ],
   "outputs": [],
   "metadata": {}
  },
  {
   "cell_type": "code",
   "execution_count": null,
   "source": [
    "#CED CARL"
   ],
   "outputs": [],
   "metadata": {}
  },
  {
   "cell_type": "code",
   "execution_count": null,
   "source": [
    "#SKELETONIZATION ALL"
   ],
   "outputs": [],
   "metadata": {}
  },
  {
   "cell_type": "code",
   "execution_count": null,
   "source": [
    "#PREPROCESSING IMAGES"
   ],
   "outputs": [],
   "metadata": {}
  }
 ],
 "metadata": {
  "kernelspec": {
   "name": "python3",
   "display_name": "Python 3.9.4 64-bit"
  },
  "language_info": {
   "codemirror_mode": {
    "name": "ipython",
    "version": 3
   },
   "file_extension": ".py",
   "mimetype": "text/x-python",
   "name": "python",
   "nbconvert_exporter": "python",
   "pygments_lexer": "ipython3",
   "version": "3.9.4"
  },
  "interpreter": {
   "hash": "63fd5069d213b44bf678585dea6b12cceca9941eaf7f819626cde1f2670de90d"
  }
 },
 "nbformat": 4,
 "nbformat_minor": 4
}